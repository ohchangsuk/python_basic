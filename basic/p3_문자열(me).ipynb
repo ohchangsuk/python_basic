{
 "cells": [
  {
   "cell_type": "markdown",
   "metadata": {},
   "source": [
    "### 문자열\n",
    "\n",
    "- 타입\n",
    "    - 단일 데이터 타입\n",
    "        - 문자열(단일형으로 분류 하지만, 실체는 연속형)\n",
    "            - \"helloworld\". 'helloworld', \"\"\",\"\"\" , ''','''"
   ]
  },
  {
   "cell_type": "code",
   "execution_count": 3,
   "metadata": {},
   "outputs": [
    {
     "data": {
      "text/plain": [
       "('hello부산대역', str)"
      ]
     },
     "execution_count": 3,
     "metadata": {},
     "output_type": "execute_result"
    }
   ],
   "source": [
    "# 1.문자열 표기법\n",
    "a=\"hello부산대역\"\n",
    "a, type(a)"
   ]
  },
  {
   "cell_type": "code",
   "execution_count": 4,
   "metadata": {},
   "outputs": [
    {
     "data": {
      "text/plain": [
       "('hello부산대역', str)"
      ]
     },
     "execution_count": 4,
     "metadata": {},
     "output_type": "execute_result"
    }
   ],
   "source": [
    "a='hello부산대역'\n",
    "a, type(a)"
   ]
  },
  {
   "cell_type": "code",
   "execution_count": 5,
   "metadata": {},
   "outputs": [
    {
     "data": {
      "text/plain": [
       "('\\n    seclt \\n    * from users:\\n', str)"
      ]
     },
     "execution_count": 5,
     "metadata": {},
     "output_type": "execute_result"
    }
   ],
   "source": [
    "# 3개짜리 표현은 여러줄 문자열 표현, 문자열의 구조를 유지할때  사용\n",
    "# 파이썬의 주석 한줄주석만 존재, #\n",
    "# 여러줄 주석은 표현이 따로 없어서 여러줄 표현하는 문자열 구조를 차용\n",
    "a=\"\"\"\n",
    "    seclt \n",
    "        * \n",
    "    from \n",
    "        users:\n",
    "\"\"\"\n",
    "a, type(a)"
   ]
  },
  {
   "cell_type": "code",
   "execution_count": null,
   "metadata": {},
   "outputs": [],
   "source": [
    "#여러줄 주석 표현, 어떤 변수도 받지 않으므로\n",
    "#그냥 정의되고 끝, 프로그램에 영향을 미치지 않음=>주석간주\n",
    "\"\"\"\n",
    " 3개짜리 표현은 여러줄 문자열 표현, 문자열의 구조를 유지할때  사용\n",
    " 파이썬의 주석 한줄주석만 존재, #\n",
    " 여러줄 주석은 표현이 따로 없어서 여러줄 표현하는 문자열 구조를 차용\n",
    "\n",
    "\"\"\""
   ]
  },
  {
   "cell_type": "code",
   "execution_count": 7,
   "metadata": {},
   "outputs": [
    {
     "name": "stdout",
     "output_type": "stream",
     "text": [
      "abcde\"123\"fghijk\n"
     ]
    }
   ],
   "source": [
    "#섞어서 표현\n",
    "#원 문자열에 ''나 \"가포함되어 있어서 그대로 표현하고 싶다면 > 혼용해서 표현\n",
    "a='abcde\"123\"fghijk'\n",
    "print(a)"
   ]
  },
  {
   "cell_type": "code",
   "execution_count": 8,
   "metadata": {},
   "outputs": [
    {
     "name": "stdout",
     "output_type": "stream",
     "text": [
      "abcde\"123\"fg'hi'jk\n"
     ]
    }
   ],
   "source": [
    "#문자열 안에 \",'가 다 섞여 있어서 문제가 될 경우\n",
    "#이스케이프 문자 표시법으로 문자열의 구분자가 아님을 표현\n",
    "a='abcde\"123\"fg\\'hi\\'jk'\n",
    "print(a)"
   ]
  },
  {
   "cell_type": "code",
   "execution_count": 10,
   "metadata": {},
   "outputs": [
    {
     "data": {
      "text/plain": [
       "('aaaccc', 'aaa', 'ccc')"
      ]
     },
     "execution_count": 10,
     "metadata": {},
     "output_type": "execute_result"
    }
   ],
   "source": [
    "#2. 문자열 더하기\n",
    "a=\"aaa\"\n",
    "b=\"ccc\"\n",
    "#앞 문자열에 뒷 문자열을 이어 붙여서, 사본을 리턴한다.\n",
    "a+b, a,b"
   ]
  },
  {
   "cell_type": "code",
   "execution_count": 11,
   "metadata": {},
   "outputs": [
    {
     "data": {
      "text/plain": [
       "'=========='"
      ]
     },
     "execution_count": 11,
     "metadata": {},
     "output_type": "execute_result"
    }
   ],
   "source": [
    "#문자열 곱하기\n",
    "#해당 문자열을 10번 반복해라\n",
    "'='*10"
   ]
  },
  {
   "cell_type": "code",
   "execution_count": 12,
   "metadata": {},
   "outputs": [
    {
     "data": {
      "text/plain": [
       "'0123456789'"
      ]
     },
     "execution_count": 12,
     "metadata": {},
     "output_type": "execute_result"
    }
   ],
   "source": [
    "#4.인덱싱(indexing)★★★★★\n",
    "#문자열에서 특정 문자를 획득(차원 축소라는 의미를 가짐)\n",
    "\n",
    "a='0123456789'\n",
    "a"
   ]
  },
  {
   "cell_type": "code",
   "execution_count": 16,
   "metadata": {},
   "outputs": [
    {
     "data": {
      "text/plain": [
       "('2', '2')"
      ]
     },
     "execution_count": 16,
     "metadata": {},
     "output_type": "execute_result"
    }
   ],
   "source": [
    "# 위의 문자열 a에서 2라는 값을 출력(추출)하시오->인덱싱\n",
    "#문법\n",
    "#변수명[인덱스(정방향 0,1.2.3..., 역방향 -1.-2.-3....)]\n",
    "#정방향은 앞에서 부터 세고, 역방향은 뒤에서 부터 센다\n",
    "# >> 본질은 가까운 쪽에서 카운트해라\n",
    "#커서의 오른쪽 값을 취한다\n",
    "a[2],a[-8]\n",
    "#두 숫자의 절대값을 더하면 숫자의 갯수가 나옴.\n"
   ]
  },
  {
   "cell_type": "code",
   "execution_count": null,
   "metadata": {},
   "outputs": [],
   "source": []
  },
  {
   "cell_type": "code",
   "execution_count": null,
   "metadata": {},
   "outputs": [],
   "source": []
  },
  {
   "cell_type": "code",
   "execution_count": null,
   "metadata": {},
   "outputs": [],
   "source": []
  },
  {
   "cell_type": "code",
   "execution_count": null,
   "metadata": {},
   "outputs": [],
   "source": []
  },
  {
   "cell_type": "code",
   "execution_count": null,
   "metadata": {},
   "outputs": [],
   "source": []
  },
  {
   "cell_type": "code",
   "execution_count": null,
   "metadata": {},
   "outputs": [],
   "source": []
  },
  {
   "cell_type": "code",
   "execution_count": null,
   "metadata": {},
   "outputs": [],
   "source": []
  }
 ],
 "metadata": {
  "kernelspec": {
   "display_name": "Python 3",
   "language": "python",
   "name": "python3"
  },
  "language_info": {
   "codemirror_mode": {
    "name": "ipython",
    "version": 3
   },
   "file_extension": ".py",
   "mimetype": "text/x-python",
   "name": "python",
   "nbconvert_exporter": "python",
   "pygments_lexer": "ipython3",
   "version": "3.7.4"
  }
 },
 "nbformat": 4,
 "nbformat_minor": 2
}

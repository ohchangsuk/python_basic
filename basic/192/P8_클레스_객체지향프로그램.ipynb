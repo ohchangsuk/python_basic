{
 "cells": [
  {
   "cell_type": "markdown",
   "metadata": {},
   "source": [
    "## class, 객체\n",
    "\n",
    "- 용어 정리\n",
    "    - 개체:이세상에 존재하는 모든 유형/무형(사고,생각등등)\n",
    "        - entity\n",
    "        - 전산에서 코드로 구현할 대상이 된다\n",
    "    - class \n",
    "        - 사람이라는 유형을 전산으로 구현해보자\n",
    "        - 전산상에서를 이를 구현할수 있는 기존, 용어가 필요\n",
    "        - 이를 클레스라고 정의한다\n",
    "        - 클레스는 개체를 구현하는 방법(룰, 문법)\n",
    "        - 클레스를 작성한 코드를 구현하면 클레스가 메모리에 로드가 되는데, 이때 이를 객체라고 부른다\n",
    "    - 객체(Object):\n",
    "        - 여러개 생성할수 있다\n",
    "        - 그런 동일한 객체들은 동일한 특성을 가진다\n",
    "            - 눈이 2개, 입이 1개, 등등\n",
    "            - 특성 - 문법적으로 변수로 표현\n",
    "            - 맴버 변수\n",
    "        - 그런 동일한 객체들은 동일한 행동을 가진다\n",
    "            - 밥을 먹는다, 달린다 등등\n",
    "            - 행동 - 문법적으로는 함수로 표현\n",
    "            - 맴버 함수\n",
    "    - 객체를 중심으로(class를 중심으로) 코드가 작성되고, 관리되면 \"객체 지향 프로그램(OOP)\"이라도 부른다 \n",
    "        - C++ 에서 처음 등장, 자바에서 발전시켰고, 이후는 대부분의 언어가 지원\n",
    "        - 상속성(부모, 자식관계를 통해서, 상속을 받은 자식을 부모의 모든 기능을 그대로 사용 가능하고, 자식은 재정의하거나, 기능을 추가할수 있다) <= 파이썬은 상속성만 신경쓴다\n",
    "        ---------------------------------------------------\n",
    "        - 캡슐화(데이터를 내부로 숨기고, 정해진 함수를 통해서 데이터를 읽고, 쓰기)\n",
    "        - 다형성"
   ]
  },
  {
   "cell_type": "code",
   "execution_count": null,
   "metadata": {},
   "outputs": [],
   "source": [
    "# 형식 : class 기술법"
   ]
  },
  {
   "cell_type": "code",
   "execution_count": 2,
   "metadata": {},
   "outputs": [],
   "source": [
    "# 구성원을 일부 보여주면서 class를 정의\n",
    "class Person:\n",
    "    '''\n",
    "    맴버 변수\n",
    "    '''\n",
    "    name = '홍길동'\n",
    "    '''\n",
    "    맴버 함수\n",
    "    '''\n",
    "    def getName():\n",
    "        print('Person의 이름입니다.')\n",
    "    '''\n",
    "    생성자\n",
    "    '''    "
   ]
  },
  {
   "cell_type": "code",
   "execution_count": null,
   "metadata": {},
   "outputs": [],
   "source": [
    "# 함수 -> 호출해야 존재하고\n",
    "# 클레스 -> 생성해야 존재한다\n",
    "# 생성 => 클레스명( [인자...])"
   ]
  },
  {
   "cell_type": "code",
   "execution_count": 3,
   "metadata": {},
   "outputs": [
    {
     "data": {
      "text/plain": [
       "<__main__.Person at 0x1ccf9c28048>"
      ]
     },
     "execution_count": 3,
     "metadata": {},
     "output_type": "execute_result"
    }
   ],
   "source": [
    "p = Person()\n",
    "p"
   ]
  },
  {
   "cell_type": "code",
   "execution_count": 4,
   "metadata": {},
   "outputs": [
    {
     "data": {
      "text/plain": [
       "'홍길동'"
      ]
     },
     "execution_count": 4,
     "metadata": {},
     "output_type": "execute_result"
    }
   ],
   "source": [
    "# p라는 객체의 맴버들을 접근하고 싶으면 .(도트 연산자) 사용\n",
    "p.name"
   ]
  },
  {
   "cell_type": "code",
   "execution_count": 5,
   "metadata": {},
   "outputs": [
    {
     "ename": "TypeError",
     "evalue": "getName() takes 0 positional arguments but 1 was given",
     "output_type": "error",
     "traceback": [
      "\u001b[1;31m---------------------------------------------------------------------------\u001b[0m",
      "\u001b[1;31mTypeError\u001b[0m                                 Traceback (most recent call last)",
      "\u001b[1;32m<ipython-input-5-147f15d4dd1f>\u001b[0m in \u001b[0;36m<module>\u001b[1;34m\u001b[0m\n\u001b[1;32m----> 1\u001b[1;33m \u001b[0mp\u001b[0m\u001b[1;33m.\u001b[0m\u001b[0mgetName\u001b[0m\u001b[1;33m(\u001b[0m\u001b[1;33m)\u001b[0m\u001b[1;33m\u001b[0m\u001b[1;33m\u001b[0m\u001b[0m\n\u001b[0m",
      "\u001b[1;31mTypeError\u001b[0m: getName() takes 0 positional arguments but 1 was given"
     ]
    }
   ],
   "source": [
    "p.getName()"
   ]
  },
  {
   "cell_type": "markdown",
   "metadata": {},
   "source": [
    "- 클레스의 내부에 존재하는 모든 함수의 1번 인자는 \n",
    "- 클레스 자기 자신을 설명하는 키워드 => self로 세팅된다\n",
    "- 타 언어에서는 this라고 표현한다"
   ]
  },
  {
   "cell_type": "code",
   "execution_count": 6,
   "metadata": {},
   "outputs": [],
   "source": [
    "class Person:\n",
    "    name = '홍길동'\n",
    "    def getName( self ):\n",
    "        print('Person의 이름입니다.')\n",
    "    '''\n",
    "    생성자\n",
    "    '''   "
   ]
  },
  {
   "cell_type": "code",
   "execution_count": 7,
   "metadata": {},
   "outputs": [],
   "source": [
    "p = Person()"
   ]
  },
  {
   "cell_type": "code",
   "execution_count": 8,
   "metadata": {},
   "outputs": [
    {
     "name": "stdout",
     "output_type": "stream",
     "text": [
      "Person의 이름입니다.\n"
     ]
    }
   ],
   "source": [
    "p.getName()"
   ]
  },
  {
   "cell_type": "markdown",
   "metadata": {},
   "source": [
    "- 생성자, contructor <= 형태는 함수이다\n",
    "- 클레스를 보고 객체를 생성하는 실제적인 작업 진행\n",
    "- 기본 생성자는 생략 가능하다\n",
    "- 생성자의 기본 역활중에 하나는 맴버 변수 초기화\n",
    "- 이름 : __init__"
   ]
  },
  {
   "cell_type": "code",
   "execution_count": 9,
   "metadata": {},
   "outputs": [],
   "source": [
    "class Person:\n",
    "    name = '홍길동'\n",
    "    def getName( self ):\n",
    "        print('Person의 이름입니다.')\n",
    "    '''\n",
    "    생성자:객체를 생성, 맴버변수 초기화(옵션)\n",
    "    '''\n",
    "    def __init__( self ):\n",
    "        print('객체 생성')"
   ]
  },
  {
   "cell_type": "code",
   "execution_count": 10,
   "metadata": {},
   "outputs": [
    {
     "name": "stdout",
     "output_type": "stream",
     "text": [
      "객체 생성\n"
     ]
    },
    {
     "data": {
      "text/plain": [
       "<__main__.Person at 0x1ccf9c28ac8>"
      ]
     },
     "execution_count": 10,
     "metadata": {},
     "output_type": "execute_result"
    }
   ],
   "source": [
    "Person()"
   ]
  },
  {
   "cell_type": "code",
   "execution_count": null,
   "metadata": {},
   "outputs": [],
   "source": [
    "# 초기화 => 최초, 맨처음에 값을 세팅하는 행위\n",
    "# 변수를 사용하기 전에 초기값을 넣는 행위 => 초기화\n",
    "a = None"
   ]
  },
  {
   "cell_type": "code",
   "execution_count": null,
   "metadata": {},
   "outputs": [],
   "source": [
    "a = 1"
   ]
  },
  {
   "cell_type": "code",
   "execution_count": 18,
   "metadata": {},
   "outputs": [],
   "source": [
    "# 맴버변수 초기화(옵션)\n",
    "class Person:\n",
    "    name = None\n",
    "    def getName( self ):\n",
    "        print('Person의 이름은 %s입니다.' % self.name)    \n",
    "    def __init__( self, name ):\n",
    "        print('객체 생성')\n",
    "        # 클레스 내부에서 맴버들을 사용할 경우 \n",
    "        # self.변수, self.함수\n",
    "        # 맴버 변수 초기화\n",
    "        self.name = name"
   ]
  },
  {
   "cell_type": "code",
   "execution_count": 19,
   "metadata": {},
   "outputs": [
    {
     "name": "stdout",
     "output_type": "stream",
     "text": [
      "객체 생성\n"
     ]
    },
    {
     "data": {
      "text/plain": [
       "'부산대역'"
      ]
     },
     "execution_count": 19,
     "metadata": {},
     "output_type": "execute_result"
    }
   ],
   "source": [
    "p = Person( '부산대역' )\n",
    "p.name"
   ]
  },
  {
   "cell_type": "code",
   "execution_count": 20,
   "metadata": {},
   "outputs": [
    {
     "name": "stdout",
     "output_type": "stream",
     "text": [
      "Person의 이름은 부산대역입니다.\n"
     ]
    }
   ],
   "source": [
    "p.getName()\n",
    "# Person의 이름은 부산대역입니다. <= 구현"
   ]
  },
  {
   "cell_type": "code",
   "execution_count": null,
   "metadata": {},
   "outputs": [],
   "source": []
  },
  {
   "cell_type": "code",
   "execution_count": 1,
   "metadata": {},
   "outputs": [],
   "source": [
    "# 맴버변수 초기화(옵션)\n",
    "class Person:\n",
    "    # 이미 맴버 변수 초기화는 수행되었다 => 값을 넣었다\n",
    "    name   = None\n",
    "    age    = 25\n",
    "    weight = 300\n",
    "    def getName( self ):\n",
    "        print('Person의 이름은 %s입니다.' % self.name)    \n",
    "    # 만약, 객체를 만들면서 그것을 변경하고 싶다면\n",
    "    def __init__( self, name, age, weight ):\n",
    "        print('객체 생성')    \n",
    "        if name:\n",
    "            self.name   = name\n",
    "        if age:\n",
    "            self.age    = age\n",
    "        if weight:\n",
    "            self.weight = weight"
   ]
  },
  {
   "cell_type": "code",
   "execution_count": 2,
   "metadata": {},
   "outputs": [
    {
     "name": "stdout",
     "output_type": "stream",
     "text": [
      "객체 생성\n"
     ]
    },
    {
     "data": {
      "text/plain": [
       "<__main__.Person at 0x1e89d015288>"
      ]
     },
     "execution_count": 2,
     "metadata": {},
     "output_type": "execute_result"
    }
   ],
   "source": [
    "Person(None, 0, None)"
   ]
  },
  {
   "cell_type": "markdown",
   "metadata": {},
   "source": [
    "### 상속\n",
    "\n",
    "- A라는 클레스를 상속받은 클레스가 B이다\n",
    "- A는 부모, B는 자식, 자식은 여거래일수 있다 \n",
    "- 자식은 부모의 것을 그대로 물려받고, 그것을 개선, 추가할수있다\n",
    "- 다음 문구 확인 : \n",
    "- 객체 지향 프로그램에서 부모, 자식 관계를 설명하는 명제\n",
    "    A has a B => o \n",
    "    B is a A  => o    \n",
    "\n",
    "- **자식은 부모의 것을 그대로 물려받고, 그것을 개선(재정의:overriding), 추가할수있다**"
   ]
  },
  {
   "cell_type": "code",
   "execution_count": 3,
   "metadata": {},
   "outputs": [],
   "source": [
    "# 모든 클레스의 수펴 클레스는 Object\n",
    "# 이것은 생략 가능하다\n",
    "# 특정 클레스를 상속 => 클레스명(부모클레스명)\n",
    "class XMan(Person):pass"
   ]
  },
  {
   "cell_type": "code",
   "execution_count": 7,
   "metadata": {},
   "outputs": [
    {
     "name": "stdout",
     "output_type": "stream",
     "text": [
      "객체 생성\n"
     ]
    },
    {
     "data": {
      "text/plain": [
       "1"
      ]
     },
     "execution_count": 7,
     "metadata": {},
     "output_type": "execute_result"
    }
   ],
   "source": [
    "XMan(1,2,3).name\n"
   ]
  },
  {
   "cell_type": "code",
   "execution_count": 28,
   "metadata": {},
   "outputs": [
    {
     "name": "stdout",
     "output_type": "stream",
     "text": [
      "Person의 이름은 1입니다.\n"
     ]
    }
   ],
   "source": [
    "x.getName()"
   ]
  },
  {
   "cell_type": "code",
   "execution_count": 31,
   "metadata": {},
   "outputs": [],
   "source": [
    "class XMan(Person):\n",
    "    def eat(self):\n",
    "        print('나는 점심을 5분만에 다 먹는다. 어떤 메뉴던지')"
   ]
  },
  {
   "cell_type": "code",
   "execution_count": 32,
   "metadata": {},
   "outputs": [
    {
     "name": "stdout",
     "output_type": "stream",
     "text": [
      "객체 생성\n",
      "나는 점심을 5분만에 다 먹는다. 어떤 메뉴던지\n"
     ]
    }
   ],
   "source": [
    "x = XMan(1,2,3)\n",
    "x.eat()"
   ]
  },
  {
   "cell_type": "markdown",
   "metadata": {},
   "source": [
    "- Enermy 클레스 생성\n",
    "- Enermy 클레스는 \n",
    "    - SPEED, HP, EXP, LEVEL, COLOR, x, y 등 속성이 있다 \n",
    "    - move, attack, demeage등의 행동을 가지고 있다\n",
    "    - 이런 클레스를 구현하시오\n",
    "    - 전제하지 않는 것들은 가정하시오\n",
    "    \n",
    "    - 적을 100개를 생성하시오\n",
    "    \n",
    "    - 적을 10*10으로 배치하는데, 적의 크기는 10x10이다.\n",
    "    - 공간의 크기가 가로 200, 세로 600 이다 \n",
    "    - 적을 100개를 생성하는데, 좌표는 다르게 부여한다\n",
    "    - 가로로 10개, 세로로 10개씩 배치된다\n",
    "    - 좌표계는 1/4분면이다"
   ]
  },
  {
   "cell_type": "code",
   "execution_count": 34,
   "metadata": {},
   "outputs": [],
   "source": [
    "# 클레슨은 새로운 자료구조를 정의하는 형태\n",
    "# 데이터뿐만 아니라, 행동(함수)도 같이 가질수 있는 자료구조\n",
    "class Enermy:\n",
    "    '''\n",
    "    - SPEED, HP, EXP, LEVEL, COLOR, x, y 등 속성이 있다 \n",
    "    - move, attack, demeage등의 행동을 가지고 있다\n",
    "    - 이런 클레스를 구현하시오\n",
    "    - 전제하지 않는 것들은 가정하시오\n",
    "    '''\n",
    "    # 맴버 변수\n",
    "    SPEED, HP, EXP, LEVEL, COLOR, x, y = (0,0,0,0,0,0,0)\n",
    "    # 맴버 함수 \n",
    "    def move(self):pass\n",
    "    def attack(self):pass\n",
    "    def demeage(self):pass\n",
    "    # 생성자\n",
    "    def __init__(self):pass"
   ]
  },
  {
   "cell_type": "code",
   "execution_count": 38,
   "metadata": {},
   "outputs": [],
   "source": [
    "# 그냥 100개 만들어 보았다\n",
    "enermies = list()\n",
    "for n in range(100):\n",
    "    # 리스트에 맴버 추가, 객체 생\n",
    "    enermies.append( Enermy() )"
   ]
  },
  {
   "cell_type": "code",
   "execution_count": 41,
   "metadata": {},
   "outputs": [
    {
     "data": {
      "text/plain": [
       "(100, [<__main__.Enermy at 0x1ccfb780e08>, <__main__.Enermy at 0x1ccfb6b4588>])"
      ]
     },
     "execution_count": 41,
     "metadata": {},
     "output_type": "execute_result"
    }
   ],
   "source": [
    "len(enermies), enermies[:2]"
   ]
  },
  {
   "cell_type": "code",
   "execution_count": 42,
   "metadata": {},
   "outputs": [],
   "source": [
    "# 객체 100개를 모두 삭제\n",
    "for en in enermies:\n",
    "    # 객체 삭제\n",
    "    del en\n",
    "# 리스트 맴버 제거\n",
    "enermies.clear()"
   ]
  },
  {
   "cell_type": "markdown",
   "metadata": {},
   "source": [
    "### 좌표를 부여하여 생성"
   ]
  },
  {
   "cell_type": "code",
   "execution_count": 50,
   "metadata": {},
   "outputs": [],
   "source": [
    "e1 = Enermy()\n",
    "e1.x = 10\n",
    "e1.y = 20\n",
    "# 이렇게 짜보니 좌표 받는데 3줄이나 표현해야 한다 ->\n",
    "# Enermy의 자식은 생성할때 바로 x,y 를 받게 진화, 구현하겠다"
   ]
  },
  {
   "cell_type": "code",
   "execution_count": 47,
   "metadata": {},
   "outputs": [],
   "source": [
    "# 클레스를 상속받았다 => 상속:재정의 or 추가\n",
    "class EnermyEx(Enermy):\n",
    "    def __init__(self, x, y):\n",
    "        self.x = x\n",
    "        self.y = y"
   ]
  },
  {
   "cell_type": "code",
   "execution_count": 51,
   "metadata": {},
   "outputs": [
    {
     "data": {
      "text/plain": [
       "<__main__.EnermyEx at 0x1ccfb80ea88>"
      ]
     },
     "execution_count": 51,
     "metadata": {},
     "output_type": "execute_result"
    }
   ],
   "source": [
    "EnermyEx(10, 20)"
   ]
  },
  {
   "cell_type": "code",
   "execution_count": 52,
   "metadata": {},
   "outputs": [
    {
     "data": {
      "text/plain": [
       "100"
      ]
     },
     "execution_count": 52,
     "metadata": {},
     "output_type": "execute_result"
    }
   ],
   "source": [
    "# 적 비행기의 최초 출현하는 y 좌표\n",
    "std_y_start = 150\n",
    "# 적 비행기의 높이\n",
    "enermy_h    = 10  \n",
    "# 적 비행기의 최초 출현 x 좌표\n",
    "std_x_start = 100\n",
    "# 적 비행기의 너비\n",
    "enermy_w    = 10 \n",
    "\n",
    "for y in range(10): # y좌표\n",
    "    for x in range(10): # x좌표\n",
    "        tx = std_x_start+x*enermy_w\n",
    "        ty = std_y_start + y*enermy_h\n",
    "        enermies.append( EnermyEx(tx, ty) )\n",
    "\n",
    "len(enermies)        "
   ]
  },
  {
   "cell_type": "code",
   "execution_count": null,
   "metadata": {},
   "outputs": [],
   "source": []
  },
  {
   "cell_type": "code",
   "execution_count": null,
   "metadata": {},
   "outputs": [],
   "source": []
  },
  {
   "cell_type": "code",
   "execution_count": null,
   "metadata": {},
   "outputs": [],
   "source": []
  },
  {
   "cell_type": "code",
   "execution_count": null,
   "metadata": {},
   "outputs": [],
   "source": []
  },
  {
   "cell_type": "code",
   "execution_count": null,
   "metadata": {},
   "outputs": [],
   "source": []
  }
 ],
 "metadata": {
  "kernelspec": {
   "display_name": "Python 3",
   "language": "python",
   "name": "python3"
  },
  "language_info": {
   "codemirror_mode": {
    "name": "ipython",
    "version": 3
   },
   "file_extension": ".py",
   "mimetype": "text/x-python",
   "name": "python",
   "nbconvert_exporter": "python",
   "pygments_lexer": "ipython3",
   "version": "3.7.4"
  }
 },
 "nbformat": 4,
 "nbformat_minor": 2
}

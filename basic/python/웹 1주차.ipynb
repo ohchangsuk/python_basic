{
 "cells": [
  {
   "cell_type": "markdown",
   "metadata": {},
   "source": [
    "## 1주차\n",
    "\n",
    "\n",
    "\n",
    "- 127.0.0.1:5000\n",
    "    포트 주소 > :5000 이거가 윈도우로 들어가기 위한 구멍\n",
    "    \n",
    "- @app.route('/')\n",
    "    def index():\n",
    "    return \"index page\"\n",
    "    \n",
    "    한개 페이지임 . \n",
    "    @app.route('/join')\n",
    "    def join(): # 같은 함수명 쓰면 아노딤\n",
    "    return \"join page<hr/> <hr/>\"\n",
    "\n",
    "\n",
    "    "
   ]
  },
  {
   "cell_type": "markdown",
   "metadata": {},
   "source": [
    "docker툴박스 다운로드 : https://github.com/docker/toolbox/releases\n",
    "\n",
    "docker search oracle-12c  => 오라클 이미지 검색\n",
    "docker-machine stop  => 도커 머신 종료, 메모리를 8G로 변경\n",
    "docker-machine start \n",
    "\n",
    "docker pull truevoly/oracle-12c   <= 이미지를 가져옴. \n",
    "\n",
    "docker images  => 이미지 확인\n",
    "\n",
    "컨테이너 만들기 (최초 1 회만)\n",
    "docker run --name oracle12c -d -p 32765:8080 -p 32764:1521 truevoly/oracle-12c\n",
    "\n",
    "docker logs oracle12c =>설치 완료인지 확인\n",
    "\n",
    "docker ps -a  => 구동중인 컨테이너 확인\n",
    "\n",
    "docker start oracle12c => 2번째 부터) 컨테이너 구동\n",
    "\n",
    "docker stop oracle12c => 옵션) 컨데이너 실행 중지\n",
    "\n",
    "docker rm oracle12c => 옵션) 컨테이너 삭제"
   ]
  },
  {
   "cell_type": "code",
   "execution_count": null,
   "metadata": {},
   "outputs": [],
   "source": []
  },
  {
   "cell_type": "code",
   "execution_count": null,
   "metadata": {},
   "outputs": [],
   "source": []
  },
  {
   "cell_type": "code",
   "execution_count": null,
   "metadata": {},
   "outputs": [],
   "source": []
  },
  {
   "cell_type": "code",
   "execution_count": null,
   "metadata": {},
   "outputs": [],
   "source": []
  },
  {
   "cell_type": "code",
   "execution_count": null,
   "metadata": {},
   "outputs": [],
   "source": []
  },
  {
   "cell_type": "code",
   "execution_count": null,
   "metadata": {},
   "outputs": [],
   "source": []
  },
  {
   "cell_type": "code",
   "execution_count": null,
   "metadata": {},
   "outputs": [],
   "source": []
  },
  {
   "cell_type": "code",
   "execution_count": null,
   "metadata": {},
   "outputs": [],
   "source": []
  },
  {
   "cell_type": "code",
   "execution_count": null,
   "metadata": {},
   "outputs": [],
   "source": []
  },
  {
   "cell_type": "code",
   "execution_count": null,
   "metadata": {},
   "outputs": [],
   "source": []
  }
 ],
 "metadata": {
  "kernelspec": {
   "display_name": "Python 3",
   "language": "python",
   "name": "python3"
  },
  "language_info": {
   "codemirror_mode": {
    "name": "ipython",
    "version": 3
   },
   "file_extension": ".py",
   "mimetype": "text/x-python",
   "name": "python",
   "nbconvert_exporter": "python",
   "pygments_lexer": "ipython3",
   "version": "3.7.4"
  }
 },
 "nbformat": 4,
 "nbformat_minor": 2
}

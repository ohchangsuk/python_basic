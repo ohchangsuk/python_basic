{
 "cells": [
  {
   "cell_type": "markdown",
   "metadata": {},
   "source": [
    "## class, 객체 \n",
    "\n",
    "- 용어 정리 \n",
    "    - 개체 : 이세상에 존재하는 모든 유형/무형의 (사고,생각등등)\n",
    "        - entity\n",
    "        - 전산에서 코드로 구현할 대상이 된다\n",
    "    - class\n",
    "        - 사람 이라는 유형을 전산으로 구현 해보자\n",
    "        - 전산상에서는 이를 구현할 수 있는 기준, 용어가 필요\n",
    "        - 이를 클래스라고 정의 한다.\n",
    "        - 클레스는 개체를 구현하는 방법(룰, 문법)\n",
    "        - 클레스를 작성한 코드를 구현 하면 클레스가 메모리에 로드가 되는데 , 이때 이를 객체라고 부른다.\n",
    "    - 객체(object): \n",
    "        - 여러개 생성 할 수 있다. \n",
    "        - 그런 동일한 객체 들은 동일한 특성을 가진다. \n",
    "            - 눈이 2개, 입이 1개 ...등등..\n",
    "            - 특성 - 문법적으로 변수로 표현\n",
    "            - 멤버 변수\n",
    "        - 그런 동일한 객체들은 동일한 행동을 가진다\n",
    "            - 밥을 먹는다, 달린다 등등\n",
    "            - 행동 - 문법적으로 함수로 표현\n",
    "            - 맴버 함수\n",
    "    - 객체를 중심으로(class를 중심으로) 코드가 작성되고, 관리되면, \"객체 지향 프로그램(OOP)\" 이라고 부른다.        \n",
    "        - c++에서 처음등장, 자바에서 발전시켰고, 이후는 대부분의 언어가 지원\n",
    "        - 상속성(부모,자식관계를 통해서, 상속을 받은 자식을 부모의 모든 기능을 그대로 사용 가능 하고, 자식은 재정의하거나, 기능을 추가할수 있다)<=파이썬은 상속성만 신경쓴다.\n",
    "       ------------------------------------------------------------------------------------------------------------------\n",
    "        - 캡슐화(데이터를 내부로 숨기고, 정해진 함수를 통해서 데이터를 읽고, 쓰기)\n",
    "        - 다형성("
   ]
  },
  {
   "cell_type": "code",
   "execution_count": 7,
   "metadata": {},
   "outputs": [],
   "source": [
    "# 형식: class 기술법\n"
   ]
  },
  {
   "cell_type": "markdown",
   "metadata": {},
   "source": []
  },
  {
   "cell_type": "code",
   "execution_count": 12,
   "metadata": {},
   "outputs": [],
   "source": [
    "#구성원을 일부 보여주면서 class를 정의\n",
    "class Person:\n",
    "    '''\n",
    "    \n",
    "    \n",
    "    멤버 변수\n",
    "    '''\n",
    "    \n",
    "    name = '홍길동'\n",
    "    '''\n",
    "    \n",
    "    멤버 함수\n",
    "    '''\n",
    "    \n",
    "    def getName():\n",
    "            print('person의 이름입니다.')\n",
    "    \n",
    "    '''\n",
    "    \n",
    "    생성자\n",
    "    \n",
    "    '''\n",
    "    \n",
    "    "
   ]
  },
  {
   "cell_type": "code",
   "execution_count": 13,
   "metadata": {},
   "outputs": [],
   "source": [
    "# 함수> 호출해야 존재한다.\n",
    "# 클래스> 생성해야 존재한다.\n",
    "# 생성> 클래스명([인자....])"
   ]
  },
  {
   "cell_type": "code",
   "execution_count": 14,
   "metadata": {},
   "outputs": [
    {
     "data": {
      "text/plain": [
       "<__main__.Person at 0x1b078102988>"
      ]
     },
     "execution_count": 14,
     "metadata": {},
     "output_type": "execute_result"
    }
   ],
   "source": [
    "p=Person()\n",
    "p"
   ]
  },
  {
   "cell_type": "code",
   "execution_count": 15,
   "metadata": {},
   "outputs": [
    {
     "data": {
      "text/plain": [
       "'홍길동'"
      ]
     },
     "execution_count": 15,
     "metadata": {},
     "output_type": "execute_result"
    }
   ],
   "source": [
    "#p라는 객체의 맴버들을 접근하고 싶으면.(도트연산자)사용\n",
    "p.name"
   ]
  },
  {
   "cell_type": "code",
   "execution_count": 16,
   "metadata": {},
   "outputs": [
    {
     "ename": "TypeError",
     "evalue": "getName() takes 0 positional arguments but 1 was given",
     "output_type": "error",
     "traceback": [
      "\u001b[1;31m---------------------------------------------------------------------------\u001b[0m",
      "\u001b[1;31mTypeError\u001b[0m                                 Traceback (most recent call last)",
      "\u001b[1;32m<ipython-input-16-147f15d4dd1f>\u001b[0m in \u001b[0;36m<module>\u001b[1;34m\u001b[0m\n\u001b[1;32m----> 1\u001b[1;33m \u001b[0mp\u001b[0m\u001b[1;33m.\u001b[0m\u001b[0mgetName\u001b[0m\u001b[1;33m(\u001b[0m\u001b[1;33m)\u001b[0m\u001b[1;33m\u001b[0m\u001b[1;33m\u001b[0m\u001b[0m\n\u001b[0m",
      "\u001b[1;31mTypeError\u001b[0m: getName() takes 0 positional arguments but 1 was given"
     ]
    }
   ],
   "source": [
    "p.getName()"
   ]
  },
  {
   "cell_type": "markdown",
   "metadata": {},
   "source": [
    "- 클레스 내부에 존재하는 모든 함수의 1번 인자는\n",
    "- 클레스 자기 자신을 설명하는 키워드 => self로 세팅된다.\n",
    "- 타 언어에서는 this라고 표현한다."
   ]
  },
  {
   "cell_type": "code",
   "execution_count": 23,
   "metadata": {},
   "outputs": [],
   "source": [
    "class Person:\n",
    "    name = '홍길동'\n",
    "    def getName(sefl):\n",
    "        print('person의 이름입니다.')\n",
    "    \n",
    "    '''\n",
    "    \n",
    "    생성자\n",
    "    \n",
    "    '''\n",
    "    \n",
    "    "
   ]
  },
  {
   "cell_type": "code",
   "execution_count": 26,
   "metadata": {},
   "outputs": [],
   "source": [
    "p=Person()"
   ]
  },
  {
   "cell_type": "code",
   "execution_count": 27,
   "metadata": {},
   "outputs": [
    {
     "name": "stdout",
     "output_type": "stream",
     "text": [
      "person의 이름입니다.\n"
     ]
    }
   ],
   "source": [
    "p.getName()"
   ]
  },
  {
   "cell_type": "markdown",
   "metadata": {},
   "source": [
    "- 생성자, constructor<=형태는 함수 이다. \n",
    "- 클레스를 보고 객체를 생성하는 실제적인 작업 진행\n",
    "- 기본 생성자는 생략 가능하다.\n",
    "- 생성자의 기본 역활중에 하나는 맴버 번수 초기화\n",
    "- 이름 : __init__"
   ]
  },
  {
   "cell_type": "code",
   "execution_count": 8,
   "metadata": {},
   "outputs": [],
   "source": [
    "class Person:\n",
    "    name = '홍길동'\n",
    "    def getName(sefl):\n",
    "        print('person의 이름입니다.')\n",
    "    \n",
    "    '''\n",
    "    \n",
    "    생성자:객체를 생성하고 맴버변수 ( 초기화, << 옵션)\n",
    "    \n",
    "    '''\n",
    "    def __init__( self ):\n",
    "        print('객체 생성')\n",
    "    "
   ]
  },
  {
   "cell_type": "code",
   "execution_count": 10,
   "metadata": {},
   "outputs": [
    {
     "name": "stdout",
     "output_type": "stream",
     "text": [
      "객체 생성\n"
     ]
    },
    {
     "data": {
      "text/plain": [
       "<__main__.Person at 0x22433a936c8>"
      ]
     },
     "execution_count": 10,
     "metadata": {},
     "output_type": "execute_result"
    }
   ],
   "source": [
    "Person()"
   ]
  },
  {
   "cell_type": "code",
   "execution_count": 5,
   "metadata": {},
   "outputs": [],
   "source": [
    "#맴버 변수 초기화(옵션)\n",
    "class Person:\n",
    "    name = None\n",
    "    def getName(self):\n",
    "        print('person의 이름은 %s 역입니다' %self.name)\n",
    "    def __init__( self, name ):\n",
    "        print('객체 생성')\n",
    "        #클레스 내부에서 맴버들을 사용할 경우 self.변수/ self.함수\n",
    "        #맴버 변수 초기화\n",
    "        self.name = name"
   ]
  },
  {
   "cell_type": "code",
   "execution_count": 6,
   "metadata": {},
   "outputs": [
    {
     "data": {
      "text/plain": [
       "'부산대역'"
      ]
     },
     "execution_count": 6,
     "metadata": {},
     "output_type": "execute_result"
    }
   ],
   "source": [
    "p=Person('부산대역')\n",
    "p.name"
   ]
  },
  {
   "cell_type": "code",
   "execution_count": 107,
   "metadata": {},
   "outputs": [
    {
     "name": "stdout",
     "output_type": "stream",
     "text": [
      "person의 이름은 부산대역 역입니다\n"
     ]
    }
   ],
   "source": [
    "p.getName()\n",
    "#person의 이름은 부산대 역입니다<<구현"
   ]
  },
  {
   "cell_type": "code",
   "execution_count": 18,
   "metadata": {},
   "outputs": [
    {
     "ename": "IndentationError",
     "evalue": "unexpected indent (<ipython-input-18-1abeed504c99>, line 15)",
     "output_type": "error",
     "traceback": [
      "\u001b[1;36m  File \u001b[1;32m\"<ipython-input-18-1abeed504c99>\"\u001b[1;36m, line \u001b[1;32m15\u001b[0m\n\u001b[1;33m    self.name   = name\u001b[0m\n\u001b[1;37m    ^\u001b[0m\n\u001b[1;31mIndentationError\u001b[0m\u001b[1;31m:\u001b[0m unexpected indent\n"
     ]
    }
   ],
   "source": [
    "#맴버 변수 초기화(옵션)\n",
    "class Person:\n",
    "    #이미 맴버 변수 초기화는 수행되었다. > 값을 넣었다.\n",
    "    name = None\n",
    "    Age=None\n",
    "    weight=300\n",
    "    def getName(self):\n",
    "        print('person의 이름은 %s 역입니다' %self.name)\n",
    "    def getAge(self):\n",
    "        print('person의 나이는 %s 입니다' %self.Age)   \n",
    "        \n",
    "    def __init__( self, name, Age, weight ): #무조껀 1번에 sefl 를 적어야 맴버를\n",
    "        print('객체 생성')\n",
    "        \n",
    "            self.name   = name\n",
    "        \n",
    "            self.Age    = Age\n",
    "        \n",
    "            self.weight = weight"
   ]
  },
  {
   "cell_type": "code",
   "execution_count": 17,
   "metadata": {},
   "outputs": [
    {
     "name": "stdout",
     "output_type": "stream",
     "text": [
      "객체 생성\n"
     ]
    }
   ],
   "source": [
    "p=Person('부산대역',1 ,1 )"
   ]
  },
  {
   "cell_type": "markdown",
   "metadata": {},
   "source": [
    "### 상속\n",
    "- A라는 클레스를 상속받은 클레스가 B이다.\n",
    "- A는 부모 B는 자식, 자식은 여러개 일수 있다.\n",
    "- 자식은 부모의 것을 그대로 물려받고, 그것을 개선, 추가 할수 있다. \n",
    "- 다음 문구를 확인 : \n",
    "- 객체 지향 프로그램에서 부모, 자식 관계를 설명하는 명제 \n",
    "    A has a B > o\n",
    "    B is a A > o\n",
    "- **자식은 부모의 것을 그대로 물려받고, 그것을 개선(재정의 : overriding), 추가 할수 있다. **"
   ]
  },
  {
   "cell_type": "code",
   "execution_count": 88,
   "metadata": {},
   "outputs": [],
   "source": [
    "# 모든 클레스의 슈퍼 클레스는 object\n",
    "# 이것은 생략가능\n",
    "# 특정 클레스를 상속 >> 클레스명(부모클래스명)\n",
    "class XMan(Person):pass"
   ]
  },
  {
   "cell_type": "code",
   "execution_count": 94,
   "metadata": {},
   "outputs": [
    {
     "name": "stdout",
     "output_type": "stream",
     "text": [
      "객체 생성\n"
     ]
    }
   ],
   "source": [
    "x=XMan(1,2,3)"
   ]
  },
  {
   "cell_type": "code",
   "execution_count": 92,
   "metadata": {},
   "outputs": [
    {
     "name": "stdout",
     "output_type": "stream",
     "text": [
      "person의 이름은 None 역입니다\n",
      "person의 나이는 None 입니다\n"
     ]
    }
   ],
   "source": [
    "x.getName()\n",
    "x.getAge()"
   ]
  },
  {
   "cell_type": "code",
   "execution_count": 72,
   "metadata": {},
   "outputs": [],
   "source": [
    "class XMan(Person):\n",
    "    def eat(self):\n",
    "        print(\"나는 점심을 5분만에 다 먹는다. 어떤 메뉴던지\")"
   ]
  },
  {
   "cell_type": "code",
   "execution_count": 73,
   "metadata": {},
   "outputs": [
    {
     "name": "stdout",
     "output_type": "stream",
     "text": [
      "객체 생성\n"
     ]
    }
   ],
   "source": [
    "x =XMan(1,2,3)"
   ]
  },
  {
   "cell_type": "code",
   "execution_count": 74,
   "metadata": {},
   "outputs": [
    {
     "name": "stdout",
     "output_type": "stream",
     "text": [
      "나는 점심을 5분만에 다 먹는다. 어떤 메뉴던지\n"
     ]
    }
   ],
   "source": [
    "x.eat()"
   ]
  },
  {
   "cell_type": "code",
   "execution_count": null,
   "metadata": {},
   "outputs": [],
   "source": [
    "- enermy 클래스 생성\n",
    "- enermy 클래스는\n",
    "    - SPEED, HP, EXP, LEVEL,COLOR, x, y 등 속성이 있다.\n",
    "    - move, attack, demeage등의 행동을 가지고 있다.\n",
    "    - 이런 클래스를 구현하시오\n",
    "    - 전재하지 않는 것들은 가정하시오"
   ]
  },
  {
   "cell_type": "code",
   "execution_count": 135,
   "metadata": {},
   "outputs": [],
   "source": [
    "class Enermy:\n",
    "    #맴버 변수\n",
    "    h=200\n",
    "    v=600\n",
    "    \n",
    "    def __init__(self, SPEED, HP, EXP, LEVEL,COLOR, x, y):\n",
    "        self.SPEED = SPEED\n",
    "        self.HP = HP\n",
    "        self.EXP=EXP\n",
    "        self.LEVEL=LEVEL\n",
    "        self.COLOR=COLOR\n",
    "        self.x=x\n",
    "        self.y=y"
   ]
  },
  {
   "cell_type": "code",
   "execution_count": 136,
   "metadata": {},
   "outputs": [],
   "source": [
    "e1 = enermy(1,2,3,4,5,6,7)"
   ]
  },
  {
   "cell_type": "code",
   "execution_count": 138,
   "metadata": {},
   "outputs": [
    {
     "data": {
      "text/plain": [
       "1"
      ]
     },
     "execution_count": 138,
     "metadata": {},
     "output_type": "execute_result"
    }
   ],
   "source": [
    "e1.SPEED"
   ]
  },
  {
   "cell_type": "code",
   "execution_count": 156,
   "metadata": {},
   "outputs": [],
   "source": [
    "# 클래스는 새로운 자료구조를 정의하는 형태\n",
    "# 데이터 뿐만 아니라 행동(함수)도 같이 가질수 있는 자료 구조,\n",
    "class Enermy:\n",
    "    \n",
    "    #멤버 변수\n",
    "    SPEED, HP, EXP, LEVEL,COLOR, x, y =(0,0,0,0,0,0,0)\n",
    "    #멤버 함수\n",
    "    def move(self):pass\n",
    "    def attack(self):pass\n",
    "    def demeage(self):pass\n",
    "    \n",
    "    #생성자\n",
    "    def __init__(self):pass\n",
    "    \n",
    "    '''\n",
    "    - SPEED, HP, EXP, LEVEL,COLOR, x, y 등 속성이 있다.\n",
    "    \n",
    "    \n",
    "    '''"
   ]
  },
  {
   "cell_type": "code",
   "execution_count": 160,
   "metadata": {},
   "outputs": [],
   "source": [
    "x=Enermy()"
   ]
  },
  {
   "cell_type": "code",
   "execution_count": null,
   "metadata": {},
   "outputs": [],
   "source": []
  },
  {
   "cell_type": "code",
   "execution_count": 179,
   "metadata": {},
   "outputs": [],
   "source": [
    "#그냥 100개 만들어 봤다. \n",
    "enermies = list()\n",
    "for n in range(100):\n",
    "    \n",
    "    enermies.append( Enermy() )"
   ]
  },
  {
   "cell_type": "code",
   "execution_count": null,
   "metadata": {},
   "outputs": [],
   "source": []
  },
  {
   "cell_type": "code",
   "execution_count": 180,
   "metadata": {},
   "outputs": [
    {
     "data": {
      "text/plain": [
       "(100, [<__main__.Enermy at 0x1b078db9c48>, <__main__.Enermy at 0x1b07840cd08>])"
      ]
     },
     "execution_count": 180,
     "metadata": {},
     "output_type": "execute_result"
    }
   ],
   "source": [
    "len(enermies),enermies[:2]"
   ]
  },
  {
   "cell_type": "code",
   "execution_count": 152,
   "metadata": {},
   "outputs": [],
   "source": [
    "# 객체 100개를 모두 삭제 \n",
    "for en in enermies:\n",
    "    del en \n",
    "enermies.clear()"
   ]
  },
  {
   "cell_type": "markdown",
   "metadata": {},
   "source": [
    "### 좌표를 부여하여 생성"
   ]
  },
  {
   "cell_type": "code",
   "execution_count": 181,
   "metadata": {},
   "outputs": [],
   "source": [
    "e1= Enermy()\n",
    "e1.x=10\n",
    "e1.y=20\n",
    "#이렇게 짜보니 좌표 받는데 3줄이나 표현해야 한다>\n",
    "#Enermy의 자식은 생성할 때 바로 x,y 를 받게 진화, 구현하겠다."
   ]
  },
  {
   "cell_type": "code",
   "execution_count": 182,
   "metadata": {},
   "outputs": [],
   "source": [
    "# 클레스를 상속 받았다 > 상속 : 재정의 or 추가\n",
    "class EnermyEx(Enermy):\n",
    "    def __init__(self, x, y):\n",
    "        self.x=x\n",
    "        self.y=y"
   ]
  },
  {
   "cell_type": "code",
   "execution_count": null,
   "metadata": {},
   "outputs": [],
   "source": []
  },
  {
   "cell_type": "code",
   "execution_count": null,
   "metadata": {},
   "outputs": [],
   "source": []
  },
  {
   "cell_type": "code",
   "execution_count": null,
   "metadata": {},
   "outputs": [],
   "source": []
  },
  {
   "cell_type": "code",
   "execution_count": 184,
   "metadata": {},
   "outputs": [
    {
     "data": {
      "text/plain": [
       "100"
      ]
     },
     "execution_count": 184,
     "metadata": {},
     "output_type": "execute_result"
    }
   ],
   "source": [
    "# 적 비행기의 최초 출현하는 y좌표\n",
    "std_y_start = 150 \n",
    "# 적 비행기의 높이\n",
    "enermy_h=10\n",
    "# 적 비행기의 최초 출현하는 x좌표\n",
    "std_x_start = 100 \n",
    "# 적 비행기의 너비\n",
    "enermy_w=10\n",
    "\n",
    "for y in range(10):# y좌표\n",
    "    for x in range(10):#x좌표\n",
    "        tx=std_x_start+x*enermy_w\n",
    "        ty=std_y_start + y*enermy_h\n",
    "        EnermyEx(tx, ty)\n",
    "        \n",
    "len(enermies)        "
   ]
  },
  {
   "cell_type": "code",
   "execution_count": null,
   "metadata": {},
   "outputs": [],
   "source": []
  },
  {
   "cell_type": "code",
   "execution_count": null,
   "metadata": {},
   "outputs": [],
   "source": []
  },
  {
   "cell_type": "code",
   "execution_count": null,
   "metadata": {},
   "outputs": [],
   "source": []
  },
  {
   "cell_type": "code",
   "execution_count": null,
   "metadata": {},
   "outputs": [],
   "source": []
  },
  {
   "cell_type": "code",
   "execution_count": null,
   "metadata": {},
   "outputs": [],
   "source": []
  },
  {
   "cell_type": "code",
   "execution_count": null,
   "metadata": {},
   "outputs": [],
   "source": []
  },
  {
   "cell_type": "code",
   "execution_count": null,
   "metadata": {},
   "outputs": [],
   "source": []
  },
  {
   "cell_type": "code",
   "execution_count": null,
   "metadata": {},
   "outputs": [],
   "source": []
  },
  {
   "cell_type": "code",
   "execution_count": null,
   "metadata": {},
   "outputs": [],
   "source": []
  },
  {
   "cell_type": "code",
   "execution_count": null,
   "metadata": {},
   "outputs": [],
   "source": []
  },
  {
   "cell_type": "code",
   "execution_count": null,
   "metadata": {},
   "outputs": [],
   "source": []
  },
  {
   "cell_type": "code",
   "execution_count": null,
   "metadata": {},
   "outputs": [],
   "source": []
  },
  {
   "cell_type": "code",
   "execution_count": null,
   "metadata": {},
   "outputs": [],
   "source": []
  },
  {
   "cell_type": "code",
   "execution_count": null,
   "metadata": {},
   "outputs": [],
   "source": []
  },
  {
   "cell_type": "code",
   "execution_count": null,
   "metadata": {},
   "outputs": [],
   "source": []
  },
  {
   "cell_type": "code",
   "execution_count": null,
   "metadata": {},
   "outputs": [],
   "source": []
  },
  {
   "cell_type": "code",
   "execution_count": null,
   "metadata": {},
   "outputs": [],
   "source": []
  }
 ],
 "metadata": {
  "kernelspec": {
   "display_name": "Python 3",
   "language": "python",
   "name": "python3"
  },
  "language_info": {
   "codemirror_mode": {
    "name": "ipython",
    "version": 3
   },
   "file_extension": ".py",
   "mimetype": "text/x-python",
   "name": "python",
   "nbconvert_exporter": "python",
   "pygments_lexer": "ipython3",
   "version": "3.7.4"
  }
 },
 "nbformat": 4,
 "nbformat_minor": 2
}

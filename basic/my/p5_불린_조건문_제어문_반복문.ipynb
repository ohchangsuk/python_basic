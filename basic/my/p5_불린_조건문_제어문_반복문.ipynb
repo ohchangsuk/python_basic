{
 "cells": [
  {
   "cell_type": "markdown",
   "metadata": {},
   "source": [
    "## 파이썬 기본 문법 목록\n",
    "### 흐름제어\n",
    "- 코드의 흐름을 변경 하려면(분기, 반복등)\n",
    "- 조건을 체크 > 참, 거짓에 의해서 (판정) 흐름을 변경\n",
    "- 판정 > 결론은 블린(true / false)\n",
    "- 판정이 작성된 코드를 조건식\n",
    "\n",
    "\n",
    "- 조건문, 반복문, 제어문, 식\n",
    "    - 조건식 결론 => 참이나 거짓이냐?\n",
    "        - False 상황 : 0, 0.0 ,[],{},(),None(값이없다), 기타조건문의 결과(비교, 등등)\n",
    "    - 조건식을 가지고 상황따라 움직이는 방식 : 조건문\n",
    "        - if\n",
    "    - 반복문 : 반복작업\n",
    "        - for, while\n"
   ]
  },
  {
   "cell_type": "markdown",
   "metadata": {},
   "source": [
    "### 조건식의 결론 첫번째 케이스\n"
   ]
  },
  {
   "cell_type": "code",
   "execution_count": 1,
   "metadata": {},
   "outputs": [
    {
     "data": {
      "text/plain": [
       "(True, False, True, False, False, True)"
      ]
     },
     "execution_count": 1,
     "metadata": {},
     "output_type": "execute_result"
    }
   ],
   "source": [
    "#조건식의 결론 첫번째 케이스\n",
    "1600>1500, 1600<1500, 1600>=1500, 1600<=1500, 1600 == 1500, 1600!=1500"
   ]
  },
  {
   "cell_type": "markdown",
   "metadata": {},
   "source": [
    "### if문"
   ]
  },
  {
   "cell_type": "code",
   "execution_count": 2,
   "metadata": {},
   "outputs": [],
   "source": [
    "#요구상황에서 조건 상황이 몇개인지 체크하여 구현\n",
    "#if \n",
    "#if ~  else \n",
    "#if ~ elif\n",
    "#if ~ elif   ~ elif ........\n",
    "#if ~ elif.. ~ else "
   ]
  },
  {
   "cell_type": "code",
   "execution_count": 3,
   "metadata": {},
   "outputs": [],
   "source": [
    "#커피값을 입력받아서  1500원 이상이면 거스럼돈을 줘라 \n",
    "# 내용은 \"거스름돈(받은 금액 - 1500')은 xx원 입니다.\""
   ]
  },
  {
   "cell_type": "code",
   "execution_count": 4,
   "metadata": {},
   "outputs": [
    {
     "name": "stdout",
     "output_type": "stream",
     "text": [
      "커피값을 주세요1500\n"
     ]
    },
    {
     "data": {
      "text/plain": [
       "(1500, int)"
      ]
     },
     "execution_count": 4,
     "metadata": {},
     "output_type": "execute_result"
    }
   ],
   "source": [
    "#1. 커피값을 입력받아서(정수값 수치로 잘 넣는다고 전제)\n",
    "#값의 유형성을 체크하지 않겠다\n",
    "coffee_price = int(input('커피값을 주세요'))\n",
    "coffee_price, type(coffee_price)"
   ]
  },
  {
   "cell_type": "code",
   "execution_count": 5,
   "metadata": {},
   "outputs": [
    {
     "data": {
      "text/plain": [
       "False"
      ]
     },
     "execution_count": 5,
     "metadata": {},
     "output_type": "execute_result"
    }
   ],
   "source": [
    "coffee_price > 1500"
   ]
  },
  {
   "cell_type": "code",
   "execution_count": 6,
   "metadata": {},
   "outputs": [],
   "source": [
    "#2. 1500원 이상이면 < 조건 1개\n",
    "# 문법 > if 조건식 :\n",
    "# >, <, >=, <=, !=, ==, not(부정, false를 체크할때, 잡을때 , 부정적상황을 체크할때)\n",
    "# and, or \n",
    "# : > 코드 블럭이 시작된다\n",
    "#   코드블럭 > 들려쓰기후 진행(세로줄이 변경됨)\n",
    "#   그 조건이 만족된 때만 수행하는 코드\n",
    "if coffee_price > 1500:\n",
    "    pass # 아무것도 하지 말아라 일단 패스.(구조 잡을때, 실제 아무것도 안할때)"
   ]
  },
  {
   "cell_type": "code",
   "execution_count": 7,
   "metadata": {},
   "outputs": [],
   "source": [
    "#3. 거스럼돈은 100원 입니다.\n",
    "type(coffee_price)\n",
    "if coffee_price > 1500:\n",
    "    tmp='거스럼돈은 %s원 입니다.'%(coffee_price-1500)\n",
    "    print(tmp)\n",
    "    pass"
   ]
  },
  {
   "cell_type": "markdown",
   "metadata": {},
   "source": [
    "#### 통합코드"
   ]
  },
  {
   "cell_type": "code",
   "execution_count": 8,
   "metadata": {},
   "outputs": [
    {
     "name": "stdout",
     "output_type": "stream",
     "text": [
      "커피값을 주세요1500\n"
     ]
    }
   ],
   "source": [
    "#while True : \n",
    "coffee_price = int(input('커피값을 주세요'))\n",
    "if coffee_price > 1500:\n",
    "    tmp='거스럼돈은 %s원 입니다.'%(coffee_price-1500)\n",
    "    print(tmp)\n",
    "    pass\n",
    "    "
   ]
  },
  {
   "cell_type": "code",
   "execution_count": 9,
   "metadata": {},
   "outputs": [
    {
     "data": {
      "text/plain": [
       "'\\n# 들여쓰기 : 코드블럭\\n# 코드블럭내에 존재하는 코드 > 수행문 > statements\\n\\n\\nif 조건식 :\\n    코드블럭내 코드 : statements\\nelif 조건식 :\\n    코드블럭내 코드 : statements\\nelse\\n    코드블럭내 코드 : statements\\n\\n\\n'"
      ]
     },
     "execution_count": 9,
     "metadata": {},
     "output_type": "execute_result"
    }
   ],
   "source": [
    "'''\n",
    "# 들여쓰기 : 코드블럭\n",
    "# 코드블럭내에 존재하는 코드 > 수행문 > statements\n",
    "\n",
    "\n",
    "if 조건식 :\n",
    "    코드블럭내 코드 : statements\n",
    "elif 조건식 :\n",
    "    코드블럭내 코드 : statements\n",
    "else\n",
    "    코드블럭내 코드 : statements\n",
    "\n",
    "\n",
    "'''"
   ]
  },
  {
   "cell_type": "code",
   "execution_count": 10,
   "metadata": {},
   "outputs": [
    {
     "name": "stdout",
     "output_type": "stream",
     "text": [
      "커피값을 주세요1500\n",
      "거스럼돈은 0원 입니다.\n"
     ]
    }
   ],
   "source": [
    "coffee_price = int(input('커피값을 주세요'))\n",
    "\n",
    "\n",
    "# 1.조건을 이해하고 그 수대로 틀을 구성\n",
    "# 2.조건을 일단 다 배치하고, 그다음 \n",
    "# 3.인사이트를 이해하고 가장 빈도가 높은 순으로 조건을 재배치(최적화의 느낌 )\n",
    "if coffee_price > 1500:\n",
    "    print('거스럼돈은 %s원 입니다.'%(coffee_price-1500))\n",
    "elif coffee_price == 1500:\n",
    "    print('거스럼돈은 %s원 입니다.'%(coffee_price-1500))\n",
    "else:\n",
    "    print('부족한 금액이 %s원 입니다.'%(1500-coffee_price))"
   ]
  },
  {
   "cell_type": "code",
   "execution_count": 11,
   "metadata": {},
   "outputs": [
    {
     "name": "stdout",
     "output_type": "stream",
     "text": [
      "커피값을 주세요1500\n",
      "딱맞습니다\n"
     ]
    }
   ],
   "source": [
    "#내가 그냥 한거임\n",
    "\n",
    "coffee_price = int(input('커피값을 주세요'))\n",
    "if coffee_price > 1500:\n",
    "    tmp='거스럼돈은 %s원 입니다.'%(coffee_price-1500)\n",
    "elif coffee_price < 1500:\n",
    "    tmp='돈 더줘요 %s원 입니다.'%(1500-coffee_price)\n",
    "elif coffee_price == 1500:\n",
    "    tmp='딱맞습니다'\n",
    "    print(tmp)"
   ]
  },
  {
   "cell_type": "code",
   "execution_count": 12,
   "metadata": {},
   "outputs": [
    {
     "data": {
      "text/plain": [
       "str"
      ]
     },
     "execution_count": 12,
     "metadata": {},
     "output_type": "execute_result"
    }
   ],
   "source": [
    "type(tmp)"
   ]
  },
  {
   "cell_type": "markdown",
   "metadata": {},
   "source": [
    "### 조건식 결론 두번째 케이스\n"
   ]
  },
  {
   "cell_type": "code",
   "execution_count": 13,
   "metadata": {},
   "outputs": [
    {
     "name": "stdout",
     "output_type": "stream",
     "text": [
      "밥먹어라\n"
     ]
    }
   ],
   "source": [
    "isRunning = False\n",
    "\n",
    "#부정 상황을 체크할때 \n",
    "#달리지 않는다면 밥먹어라 라는 문구를 출력하시오\n",
    "\n",
    "if not isRunning : \n",
    "    print(\"밥먹어라\")"
   ]
  },
  {
   "cell_type": "markdown",
   "metadata": {},
   "source": [
    "### 조건식 결론 세번째 케이스"
   ]
  },
  {
   "cell_type": "code",
   "execution_count": 14,
   "metadata": {},
   "outputs": [
    {
     "data": {
      "text/plain": [
       "(True, False)"
      ]
     },
     "execution_count": 14,
     "metadata": {},
     "output_type": "execute_result"
    }
   ],
   "source": [
    "#비트 연산\n",
    "\n",
    "#두 조건 모두 만족 해야됨. > 그래야 참이된다.\n",
    "# 하나라도 거짓이면 거짓으로 됨 다른언어에서는(A&&B)\n",
    "True and True, True and False\n"
   ]
  },
  {
   "cell_type": "code",
   "execution_count": 15,
   "metadata": {},
   "outputs": [
    {
     "data": {
      "text/plain": [
       "(True, True)"
      ]
     },
     "execution_count": 15,
     "metadata": {},
     "output_type": "execute_result"
    }
   ],
   "source": [
    "# 한개만 참이면 다 참이다.\n",
    "# 거짓 섞여 있어도 상관없음.\n",
    "# 다른언어에서는(A||B)\n",
    "True or True, True or False, "
   ]
  },
  {
   "cell_type": "markdown",
   "metadata": {},
   "source": [
    "#### 삼항 연산자(표현이 간결해진다)\n",
    "\n",
    "- 파이썬은 없다.\n",
    "- 타언어 > 변수 = 조건식 ? 참일때 값 : 거짓일때 값;\n",
    "- 상황은 2개"
   ]
  },
  {
   "cell_type": "code",
   "execution_count": 16,
   "metadata": {},
   "outputs": [
    {
     "data": {
      "text/plain": [
       "'거스름돈 100원 입니다'"
      ]
     },
     "execution_count": 16,
     "metadata": {},
     "output_type": "execute_result"
    }
   ],
   "source": [
    "a=1500\n",
    "b=1600\n",
    "msg = b >= a and '거스름돈 {cost}원 입니다' .format(cost=(b-a)) or '%s원부족'%(a-b)\n",
    "msg"
   ]
  },
  {
   "cell_type": "code",
   "execution_count": 17,
   "metadata": {},
   "outputs": [
    {
     "data": {
      "text/plain": [
       "'거스름돈 100원 입니다'"
      ]
     },
     "execution_count": 17,
     "metadata": {},
     "output_type": "execute_result"
    }
   ],
   "source": [
    "a=1500\n",
    "b=1600\n",
    "msg = '거스름돈 {cost}원 입니다'.format(cost=(b-a)) if  b >= a else '%s원부족'%(a-b)\n",
    "msg\n"
   ]
  },
  {
   "cell_type": "markdown",
   "metadata": {},
   "source": [
    "### 반복문\n",
    "- 특정한 작업을 반복해서 수행한다 > 구구단, \n",
    "- for : 지정된 횟수를  반복한다. 5번반복, 10번 반족 \n",
    "- while : 0~ 무한대, 반복을 안할수도, 무한대로(무한루프) 가능 \n",
    "    - 언제 끝날지 모르겟다."
   ]
  },
  {
   "cell_type": "code",
   "execution_count": 18,
   "metadata": {},
   "outputs": [],
   "source": [
    "# while \n",
    "# 데이터 덩어리  : 재료 < 연속 데이터 타입\n",
    "a = [1,2,3,4,5]"
   ]
  },
  {
   "cell_type": "code",
   "execution_count": 19,
   "metadata": {},
   "outputs": [
    {
     "name": "stdout",
     "output_type": "stream",
     "text": [
      "5\n",
      "4\n",
      "3\n",
      "2\n",
      "1\n"
     ]
    }
   ],
   "source": [
    "a = [1,2,3,4,5]\n",
    "'''\n",
    "while 조건 : \n",
    "    #statements(수행문)....\n",
    "'''\n",
    "# 타입값 자체를 조건식에 사용하면 0. 0.0 [], {}, ()상황이면 다 false\n",
    "# a의 맴버가 없을때 까지 반복해서, \n",
    "while len(a) > 0:\n",
    "    print(a.pop())#pop는 맨마지막에 있는애를 꺼집어 내는거임)"
   ]
  },
  {
   "cell_type": "code",
   "execution_count": 20,
   "metadata": {},
   "outputs": [
    {
     "name": "stdout",
     "output_type": "stream",
     "text": [
      "5\n",
      "4\n",
      "3\n",
      "2\n",
      "1\n"
     ]
    }
   ],
   "source": [
    "a = [1,2,3,4,5]\n",
    "\n",
    "while a:\n",
    "    print(a.pop())"
   ]
  },
  {
   "cell_type": "code",
   "execution_count": 21,
   "metadata": {},
   "outputs": [
    {
     "name": "stdout",
     "output_type": "stream",
     "text": [
      "5\n",
      "4\n",
      "3\n",
      "2\n",
      "1\n"
     ]
    }
   ],
   "source": [
    "\n",
    "#수행문이 한줄이라면, 옆으로 쓸수 있다.\n",
    "a = [1,2,3,4,5]\n",
    "\n",
    "while a:print(a.pop())"
   ]
  },
  {
   "cell_type": "code",
   "execution_count": 22,
   "metadata": {},
   "outputs": [
    {
     "name": "stdout",
     "output_type": "stream",
     "text": [
      "5\n",
      "4\n",
      "3\n",
      "2\n",
      "1\n",
      "중간에 중단 없이 정상적으로 잘 반복 했다. 반복 종료 했다. \n"
     ]
    }
   ],
   "source": [
    "#반복문이 정상적으로 모두 수행하고 종료 됬음을 알고 싶다면?\n",
    "#여기서는 5번 모두 반복 했다.  이것을 알고 싶다면 ?\n",
    "a = [1,2,3,4,5]\n",
    "\n",
    "while a:\n",
    "    print(a.pop())\n",
    "else: # 정상 적으로 모두 반복 했다 라는 것을 감지 \n",
    "    print('중간에 중단 없이 정상적으로 잘 반복 했다. 반복 종료 했다. ')"
   ]
  },
  {
   "cell_type": "markdown",
   "metadata": {},
   "source": [
    "#### 흐름제어\n",
    "\n",
    "- break : if문과 같이 사용되거나, 단독 사용 가능, \n",
    "    - 가장 가까운 반복문 ( while, for)을 빠져 나간다. 가다가 멈추는거 \n",
    "    \n",
    "- continue : if문과 같이 사용되거나, 단독 사용 가능, \n",
    "    - continue 이하 코드는 생략하고 바로 조건 식으로 점프 . 밑에꺼 생략하고 맨 위로 감 \n",
    "    - 가장 가까운 반복문으로 점프\n",
    "    - while or for 하고만 반응한다."
   ]
  },
  {
   "cell_type": "code",
   "execution_count": 23,
   "metadata": {},
   "outputs": [
    {
     "name": "stdout",
     "output_type": "stream",
     "text": [
      "5\n",
      "5\n",
      "4\n"
     ]
    }
   ],
   "source": [
    "a = [1,2,3,4,5]\n",
    "\n",
    "while a:\n",
    "    tmp = a.pop()\n",
    "    print(tmp)\n",
    "    if tmp % 2 == 0: #짝 수 면\n",
    "        break\n",
    "    print(tmp)\n",
    "    if len(a)==1:\n",
    "        continue\n",
    "else: # 정상 적으로 모두 반복 했다 라는 것을 감지 \n",
    "    print('중간에 중단 없이 정상적으로 잘 반복 했다. 반복 종료 했다. ')"
   ]
  },
  {
   "cell_type": "code",
   "execution_count": 24,
   "metadata": {},
   "outputs": [
    {
     "data": {
      "text/plain": [
       "([1, 2, 3, 4, 5], list)"
      ]
     },
     "execution_count": 24,
     "metadata": {},
     "output_type": "execute_result"
    }
   ],
   "source": [
    "a = [1,2,3,4,5]\n",
    "a, type(a)"
   ]
  },
  {
   "cell_type": "markdown",
   "metadata": {},
   "source": [
    "### for"
   ]
  },
  {
   "cell_type": "code",
   "execution_count": 25,
   "metadata": {},
   "outputs": [
    {
     "data": {
      "text/plain": [
       "'\\n# for ~ each 방식 or  for ~ in 방식 \\nfor 데이터 한개 (맴버) in 연속 데이터 타입(시퀀스 타입):\\n    수행문\\n'"
      ]
     },
     "execution_count": 25,
     "metadata": {},
     "output_type": "execute_result"
    }
   ],
   "source": [
    "'''\n",
    "# for ~ each 방식 or  for ~ in 방식 \n",
    "for 데이터 한개 (맴버) in 연속 데이터 타입(시퀀스 타입):\n",
    "    수행문\n",
    "'''"
   ]
  },
  {
   "cell_type": "code",
   "execution_count": 26,
   "metadata": {},
   "outputs": [
    {
     "name": "stdout",
     "output_type": "stream",
     "text": [
      "1\n",
      "2\n",
      "3\n",
      "4\n",
      "5\n"
     ]
    }
   ],
   "source": [
    "a=[1,2,3,4,5]\n",
    "for n in a:\n",
    "    print (n)"
   ]
  },
  {
   "cell_type": "code",
   "execution_count": 27,
   "metadata": {},
   "outputs": [
    {
     "name": "stdout",
     "output_type": "stream",
     "text": [
      "1 2\n",
      "3 4\n",
      "5 6\n"
     ]
    }
   ],
   "source": [
    "# 데이터의 형태에 따라 받아주는 변수의 개수 , 형태는 조정\n",
    "a=[(1,2),(3,4),(5,6)]\n",
    "for n, m in a:\n",
    "    print (n, m)"
   ]
  },
  {
   "cell_type": "code",
   "execution_count": 28,
   "metadata": {},
   "outputs": [
    {
     "data": {
      "text/plain": [
       "[{'code': 'USD', 'price': 1180}, {'code': 'EUR', 'price': 1430}]"
      ]
     },
     "execution_count": 28,
     "metadata": {},
     "output_type": "execute_result"
    }
   ],
   "source": [
    "#데이터가 복잡한 구조를 바로 넣으면서 생성하면\n",
    "a=[\n",
    "    {\n",
    "        \n",
    "        'code':'USD',\n",
    "        'price':1180\n",
    "    },\n",
    "    {\n",
    "        \n",
    "        'code':'EUR',\n",
    "        'price':1430\n",
    "        \n",
    "    },\n",
    "    \n",
    "    \n",
    "    \n",
    "]\n",
    "a"
   ]
  },
  {
   "cell_type": "code",
   "execution_count": 29,
   "metadata": {},
   "outputs": [
    {
     "name": "stdout",
     "output_type": "stream",
     "text": [
      "code 값출력-> USD USD\n",
      "price 값출력-> 1180 1180\n"
     ]
    }
   ],
   "source": [
    "#딕셔너리 for문으로 돌리면 키값이 나온다.\n",
    "# 좀더 안정적 = > 딕셔너리.get(키)\n",
    "for key in a[0]:\n",
    "    print(key, '값출력->',a[0][key], a[0].get(key))"
   ]
  },
  {
   "cell_type": "code",
   "execution_count": 30,
   "metadata": {},
   "outputs": [
    {
     "name": "stdout",
     "output_type": "stream",
     "text": [
      "('code', 'USD')\n",
      "('price', 1180)\n"
     ]
    }
   ],
   "source": [
    "# 딕셔너리.item() > (키.값)....\n",
    "for n in a[0].items():\n",
    "    print(n)"
   ]
  },
  {
   "cell_type": "code",
   "execution_count": 31,
   "metadata": {},
   "outputs": [
    {
     "name": "stdout",
     "output_type": "stream",
     "text": [
      "code USD\n",
      "price 1180\n"
     ]
    }
   ],
   "source": [
    "# 딕셔너리.item() > (키.값).... 따로 따로 뽑은거임 내가 \n",
    "for key, value in a[0].items():\n",
    "    print(key, value)"
   ]
  },
  {
   "cell_type": "code",
   "execution_count": 32,
   "metadata": {},
   "outputs": [
    {
     "name": "stdout",
     "output_type": "stream",
     "text": [
      "(0, 'code')\n",
      "(1, 'price')\n"
     ]
    }
   ],
   "source": [
    "# 딕셔너리에서 인덱스도 필요하다\n",
    "# 여러개의 연속 데이터 (사이즈가 동일) 접근해서 처리한다면 \n",
    "# 10개짜리 리스트와, 딕셔너리를 같이 for문에서 같은 순서로 처리한다면\n",
    "# enumerate()\n",
    "for n in enumerate(a[0]):\n",
    "    print(n)"
   ]
  },
  {
   "cell_type": "code",
   "execution_count": 33,
   "metadata": {},
   "outputs": [
    {
     "name": "stdout",
     "output_type": "stream",
     "text": [
      "1\n",
      "2\n",
      "3\n",
      "4\n"
     ]
    }
   ],
   "source": [
    "# 연속수 > .range() > numpy에서는 arange()\n",
    "#range(시작인덱스, 끝인덱스, 스텝)\n",
    "#range(시작인덱스, 끝인덱스)\n",
    "#range(시작인덱스)\n",
    "#어떤 라이브러리던지 range라는 단어가 붙어 있으면 연속적인 수치, 날짜\n",
    "#등을 만드는 기능을 가지고 있다.\n",
    "# 시작인덱스 <= x < 끝 인덱스\n",
    "for n in range(1,5):\n",
    "    print(n)"
   ]
  },
  {
   "cell_type": "code",
   "execution_count": 34,
   "metadata": {},
   "outputs": [
    {
     "name": "stdout",
     "output_type": "stream",
     "text": [
      "0 0 비트연산 0 0 0\n",
      "0 1 비트연산 0 1 1\n",
      "1 0 비트연산 0 1 1\n",
      "1 1 비트연산 1 1 0\n"
     ]
    }
   ],
   "source": [
    "for n in range(2):\n",
    "    for m in range(2):\n",
    "        # 참 : 1 거짓 : 0 , ^ : xor\n",
    "        print(n,m,'비트연산', n and m, n or m, n^m)"
   ]
  },
  {
   "cell_type": "code",
   "execution_count": 35,
   "metadata": {},
   "outputs": [
    {
     "name": "stdout",
     "output_type": "stream",
     "text": [
      "3 x 1 = 3\n",
      "3 x 2 = 6\n",
      "3 x 3 = 9\n",
      "3 x 4 =12\n",
      "3 x 5 =15\n",
      "3 x 6 =18\n",
      "3 x 7 =21\n",
      "3 x 8 =24\n",
      "3 x 9 =27\n",
      "4 x 1 = 4\n",
      "4 x 2 = 8\n",
      "4 x 3 =12\n",
      "4 x 4 =16\n",
      "4 x 5 =20\n",
      "4 x 6 =24\n",
      "4 x 7 =28\n",
      "4 x 8 =32\n",
      "4 x 9 =36\n",
      "5 x 1 = 5\n",
      "5 x 2 =10\n",
      "5 x 3 =15\n",
      "5 x 4 =20\n",
      "5 x 5 =25\n",
      "5 x 6 =30\n",
      "5 x 7 =35\n",
      "5 x 8 =40\n",
      "5 x 9 =45\n",
      "6 x 1 = 6\n",
      "6 x 2 =12\n",
      "6 x 3 =18\n",
      "6 x 4 =24\n",
      "6 x 5 =30\n",
      "6 x 6 =36\n",
      "6 x 7 =42\n",
      "6 x 8 =48\n",
      "6 x 9 =54\n",
      "7 x 1 = 7\n",
      "7 x 2 =14\n",
      "7 x 3 =21\n",
      "7 x 4 =28\n",
      "7 x 5 =35\n",
      "7 x 6 =42\n",
      "7 x 7 =49\n",
      "7 x 8 =56\n",
      "7 x 9 =63\n"
     ]
    }
   ],
   "source": [
    "# [실습]\n",
    "# 3-7단 까지 구구단을 출력하시오\n",
    "# 출력형식은 3 x 1 =3 ...\n",
    "for a in range(3,8):\n",
    "    for b in range(1,10):\n",
    "        print('%s x %s =%2s'% (a,b,a*b))"
   ]
  },
  {
   "cell_type": "code",
   "execution_count": 36,
   "metadata": {},
   "outputs": [
    {
     "data": {
      "text/plain": [
       "'\\n결과물 \\n3x1=3\\n3x9=27\\n\\n\\n'"
      ]
     },
     "execution_count": 36,
     "metadata": {},
     "output_type": "execute_result"
    }
   ],
   "source": [
    "#[요구사항 분석, 특징 체크]\n",
    "# 출력 결과의 앞자리는 3-7까지 연속적인데 , 9번씩 반복해서 출력한다\n",
    "# 출력 결과 두번째 자리는 1~9 까지 연속적인데 1회씩 출현한다.\n",
    "#단, 앞자리가 변경되면 다시 1~9까지 반복적으로 나타난다\n",
    "'''\n",
    "결과물 \n",
    "3x1=3\n",
    "3x9=27\n",
    "\n",
    "\n",
    "'''"
   ]
  },
  {
   "cell_type": "markdown",
   "metadata": {},
   "source": [
    "#### xxx내포\n",
    "\n",
    "- 결과를 중심으로 코드를 펼친다는 관점에서 \n",
    "- 연속데이터 타입 안에서 조건문, 반복문등을 활용하여 간결하게\n",
    "- 데이터를 구성할 수 있다.\n",
    "- 리스트 내포, 딕셔너리 내포 등등...."
   ]
  },
  {
   "cell_type": "code",
   "execution_count": 37,
   "metadata": {},
   "outputs": [
    {
     "name": "stdout",
     "output_type": "stream",
     "text": [
      "3 x 1 = 3\n",
      "3 x 2 = 6\n",
      "3 x 3 = 9\n",
      "3 x 4 =12\n",
      "3 x 5 =15\n",
      "3 x 6 =18\n",
      "3 x 7 =21\n",
      "3 x 8 =24\n",
      "3 x 9 =27\n",
      "4 x 1 = 4\n",
      "4 x 2 = 8\n",
      "4 x 3 =12\n",
      "4 x 4 =16\n",
      "4 x 5 =20\n",
      "4 x 6 =24\n",
      "4 x 7 =28\n",
      "4 x 8 =32\n",
      "4 x 9 =36\n",
      "5 x 1 = 5\n",
      "5 x 2 =10\n",
      "5 x 3 =15\n",
      "5 x 4 =20\n",
      "5 x 5 =25\n",
      "5 x 6 =30\n",
      "5 x 7 =35\n",
      "5 x 8 =40\n",
      "5 x 9 =45\n",
      "6 x 1 = 6\n",
      "6 x 2 =12\n",
      "6 x 3 =18\n",
      "6 x 4 =24\n",
      "6 x 5 =30\n",
      "6 x 6 =36\n",
      "6 x 7 =42\n",
      "6 x 8 =48\n",
      "6 x 9 =54\n",
      "7 x 1 = 7\n",
      "7 x 2 =14\n",
      "7 x 3 =21\n",
      "7 x 4 =28\n",
      "7 x 5 =35\n",
      "7 x 6 =42\n",
      "7 x 7 =49\n",
      "7 x 8 =56\n",
      "7 x 9 =63\n"
     ]
    }
   ],
   "source": [
    "for a in range(3,8):\n",
    "    for b in range(1,10):\n",
    "        print('%s x %s =%2s'% (a,b,a*b))"
   ]
  },
  {
   "cell_type": "code",
   "execution_count": 38,
   "metadata": {},
   "outputs": [
    {
     "data": {
      "text/plain": [
       "[' 3 x 1 = 3 ',\n",
       " ' 3 x 2 = 6 ',\n",
       " ' 3 x 3 = 9 ',\n",
       " ' 3 x 4 =12 ',\n",
       " ' 3 x 5 =15 ',\n",
       " ' 3 x 6 =18 ',\n",
       " ' 3 x 7 =21 ',\n",
       " ' 3 x 8 =24 ',\n",
       " ' 3 x 9 =27 ',\n",
       " ' 4 x 1 = 4 ',\n",
       " ' 4 x 2 = 8 ',\n",
       " ' 4 x 3 =12 ',\n",
       " ' 4 x 4 =16 ',\n",
       " ' 4 x 5 =20 ',\n",
       " ' 4 x 6 =24 ',\n",
       " ' 4 x 7 =28 ',\n",
       " ' 4 x 8 =32 ',\n",
       " ' 4 x 9 =36 ',\n",
       " ' 5 x 1 = 5 ',\n",
       " ' 5 x 2 =10 ',\n",
       " ' 5 x 3 =15 ',\n",
       " ' 5 x 4 =20 ',\n",
       " ' 5 x 5 =25 ',\n",
       " ' 5 x 6 =30 ',\n",
       " ' 5 x 7 =35 ',\n",
       " ' 5 x 8 =40 ',\n",
       " ' 5 x 9 =45 ',\n",
       " ' 6 x 1 = 6 ',\n",
       " ' 6 x 2 =12 ',\n",
       " ' 6 x 3 =18 ',\n",
       " ' 6 x 4 =24 ',\n",
       " ' 6 x 5 =30 ',\n",
       " ' 6 x 6 =36 ',\n",
       " ' 6 x 7 =42 ',\n",
       " ' 6 x 8 =48 ',\n",
       " ' 6 x 9 =54 ',\n",
       " ' 7 x 1 = 7 ',\n",
       " ' 7 x 2 =14 ',\n",
       " ' 7 x 3 =21 ',\n",
       " ' 7 x 4 =28 ',\n",
       " ' 7 x 5 =35 ',\n",
       " ' 7 x 6 =42 ',\n",
       " ' 7 x 7 =49 ',\n",
       " ' 7 x 8 =56 ',\n",
       " ' 7 x 9 =63 ']"
      ]
     },
     "execution_count": 38,
     "metadata": {},
     "output_type": "execute_result"
    }
   ],
   "source": [
    "# 3-7단까지 \"3x1=3\"식으로 계산하여 리스트로 담으시오 \n",
    "[ ' %s x %s =%2s ' % (a,b,a*b) for a in range(3,8) for b in range(1,10)]"
   ]
  },
  {
   "cell_type": "code",
   "execution_count": 7,
   "metadata": {},
   "outputs": [
    {
     "name": "stdout",
     "output_type": "stream",
     "text": [
      "[63] 1\n"
     ]
    }
   ],
   "source": [
    "results= list()\n",
    "for a in range(3,8):\n",
    "    if a == 5:\n",
    "        continue\n",
    "    for b in range(1,10):\n",
    "       results=[a*b]\n",
    "print(results, len(results))"
   ]
  },
  {
   "cell_type": "code",
   "execution_count": 40,
   "metadata": {},
   "outputs": [
    {
     "name": "stdout",
     "output_type": "stream",
     "text": [
      "[3, 6, 9, 12, 15, 18, 21, 24, 27, 4, 8, 12, 16, 20, 24, 28, 32, 36, 6, 12, 18, 24, 30, 36, 42, 48, 54, 7, 14, 21, 28, 35, 42, 49, 56, 63] 36\n"
     ]
    }
   ],
   "source": [
    "results= []\n",
    "for a in range(3,8):\n",
    "    if a != 5:\n",
    "        for b in range(1,10):\n",
    "           results.append(a*b)\n",
    "print(results, len(results))"
   ]
  },
  {
   "cell_type": "code",
   "execution_count": 41,
   "metadata": {},
   "outputs": [
    {
     "name": "stdout",
     "output_type": "stream",
     "text": [
      "[3, 6, 9, 12, 15, 18, 21, 24, 27, 4, 8, 12, 16, 20, 24, 28, 32, 36, 6, 12, 18, 24, 30, 36, 42, 48, 54, 7, 14, 21, 28, 35, 42, 49, 56, 63]\n"
     ]
    },
    {
     "data": {
      "text/plain": [
       "(None, 36)"
      ]
     },
     "execution_count": 41,
     "metadata": {},
     "output_type": "execute_result"
    }
   ],
   "source": [
    "tmp = [a*b for a in range(3,8) if a != 5 for b in range(1,10)]\n",
    "print(tmp), len(tmp)"
   ]
  },
  {
   "cell_type": "code",
   "execution_count": 42,
   "metadata": {},
   "outputs": [
    {
     "name": "stdout",
     "output_type": "stream",
     "text": [
      "[1]\n",
      "[2]\n",
      "[2]\n",
      "[4]\n"
     ]
    }
   ],
   "source": [
    "for a in [1,2]:\n",
    "    for b in [1,2]:\n",
    "        print([a*b])"
   ]
  },
  {
   "cell_type": "markdown",
   "metadata": {},
   "source": [
    "#### 옵션\n",
    "- 문자열에서 정수 변환이 가능한지 체크"
   ]
  },
  {
   "cell_type": "code",
   "execution_count": 43,
   "metadata": {},
   "outputs": [],
   "source": [
    "a='1'"
   ]
  },
  {
   "cell_type": "code",
   "execution_count": 44,
   "metadata": {},
   "outputs": [
    {
     "ename": "SyntaxError",
     "evalue": "invalid syntax (<ipython-input-44-f07923136144>, line 1)",
     "output_type": "error",
     "traceback": [
      "\u001b[1;36m  File \u001b[1;32m\"<ipython-input-44-f07923136144>\"\u001b[1;36m, line \u001b[1;32m1\u001b[0m\n\u001b[1;33m    a.is\u001b[0m\n\u001b[1;37m       ^\u001b[0m\n\u001b[1;31mSyntaxError\u001b[0m\u001b[1;31m:\u001b[0m invalid syntax\n"
     ]
    }
   ],
   "source": [
    "a.is"
   ]
  },
  {
   "cell_type": "code",
   "execution_count": null,
   "metadata": {},
   "outputs": [],
   "source": []
  }
 ],
 "metadata": {
  "kernelspec": {
   "display_name": "Python 3",
   "language": "python",
   "name": "python3"
  },
  "language_info": {
   "codemirror_mode": {
    "name": "ipython",
    "version": 3
   },
   "file_extension": ".py",
   "mimetype": "text/x-python",
   "name": "python",
   "nbconvert_exporter": "python",
   "pygments_lexer": "ipython3",
   "version": "3.7.4"
  }
 },
 "nbformat": 4,
 "nbformat_minor": 2
}

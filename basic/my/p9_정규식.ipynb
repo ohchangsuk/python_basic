{
 "cells": [
  {
   "cell_type": "markdown",
   "metadata": {},
   "source": [
    "### 정규식\n",
    "\n",
    "- 정규 표현식\n",
    "- Regular Expression\n",
    "- 복잡한 문자열을 처리할때 사용하는 기법\n",
    "    - 문자열에서 언하는 데이터만 추출, 가공, 삭제<< 전처리/ 정제"
   ]
  },
  {
   "cell_type": "code",
   "execution_count": 25,
   "metadata": {},
   "outputs": [],
   "source": [
    "# 1. 모듈 가져오기\n",
    "import re"
   ]
  },
  {
   "cell_type": "markdown",
   "metadata": {},
   "source": [
    "- 메타 문자( meta characters)\n",
    "    - 일반표현 : |, ^, $ * + ? {] () []...\n",
    "    - 이스케이프 표현 : \\d \\D \\s \\S \\w \\W \\b \\B ...\n",
    "- 함수(문자열을 조작하는데 쓰는 함수들)\n",
    "    - match()\n",
    "    - search()\n",
    "    - findall()\n",
    "    - finditer()\n",
    "    - sub()\n",
    "    \n",
    "- 그룹핑\n",
    "- 전방탐색\n",
    "    - 긍정형 전방 탐색\n",
    "    - 부정형 전방 탐색\n",
    "    \n",
    "- 컴파일 옵션\n",
    "\n",
    "(크게보면 함수와 나머지(찾는거?탐색?))으로 나뉘어짐"
   ]
  },
  {
   "cell_type": "markdown",
   "metadata": {},
   "source": [
    "- 1.데이터를 보고, < 통찰\n",
    "- 2.정제 및 추출을 할수 있는 표현식을 구현한후 < 정규식 구현\n",
    "- 3.함수를 써서 데이터를 획득한다 < 최종 추출"
   ]
  },
  {
   "cell_type": "markdown",
   "metadata": {},
   "source": [
    "### 메타문자\n",
    "\n",
    "- **|**\n",
    "- 의미  : or"
   ]
  },
  {
   "cell_type": "code",
   "execution_count": 74,
   "metadata": {},
   "outputs": [
    {
     "name": "stdout",
     "output_type": "stream",
     "text": [
      "1.매치된다\n",
      "1.매치된다\n",
      "1.매치된다\n"
     ]
    }
   ],
   "source": [
    "#re.match(정규식, 데이터)\n",
    "#re.match() : 특정 패턴이 데이터에 적용이 되었는지를 검사\n",
    "if re.match('a|b|c','a' ):print(\"1.매치된다\")\n",
    "if re.match('a|b|c','b' ):print(\"1.매치된다\")\n",
    "if re.match('a|b|c','c' ):print(\"1.매치된다\")    "
   ]
  },
  {
   "cell_type": "code",
   "execution_count": 34,
   "metadata": {},
   "outputs": [
    {
     "name": "stdout",
     "output_type": "stream",
     "text": [
      "5.매치된다\n"
     ]
    }
   ],
   "source": [
    "if re.match('a|b|c','d' ):print(\"4.매치된다\")\n",
    "# 한개라도 일치 되는게 있으면 참    \n",
    "if re.match('a|b|c','ad' ):print(\"5.매치된다\")\n",
    "# a나b나c중에서 하나가 가장 먼저 시작한다(첫글자) > false\n",
    "if re.match('a|b|c','da' ):print(\"6.매치된다\")    "
   ]
  },
  {
   "cell_type": "markdown",
   "metadata": {},
   "source": [
    "- **[]**\n",
    "- 의미  : 문자 클레스\n",
    "- [와 ]것 사이에는 어떤 문자도 들어갈수 있다.\n",
    "- []는 문자 한개를 의미한다.\n",
    "- match(시작단어), search(전체중에 일치되는 단어)를 사용할경우 한개만 일치되도 참"
   ]
  },
  {
   "cell_type": "code",
   "execution_count": 37,
   "metadata": {},
   "outputs": [
    {
     "name": "stdout",
     "output_type": "stream",
     "text": [
      "1.매치된다\n",
      "3.매치된다\n",
      "4.매치된다\n",
      "5.매치된다\n"
     ]
    }
   ],
   "source": [
    "# 문자열을 a,b,c중에 하나가 시작문자여야 한다.\n",
    "if re.match(\"[abc]\",'a'):print(\"1.매치된다\")\n",
    "if re.match(\"[abc]\",'efz'):print(\"2.매치된다\")    \n",
    "if re.match(\"[abc]\",'abd'):print(\"3.매치된다\")\n",
    "if re.match(\"[abc]\",'b56'):print(\"4.매치된다\")    \n",
    "    \n",
    "    \n",
    "if re.search(\"[abc]\",'56b'):print(\"5.매치된다\")"
   ]
  },
  {
   "cell_type": "markdown",
   "metadata": {},
   "source": [
    "- **-**\n",
    "- 의미 : [] 문자 클레스 안에 두개의 문자 사이에 표현하면 \n",
    "- from - to : 어디서 부터 어디서까지 범위를 표현"
   ]
  },
  {
   "cell_type": "code",
   "execution_count": 39,
   "metadata": {},
   "outputs": [
    {
     "name": "stdout",
     "output_type": "stream",
     "text": [
      "1.매치된다\n",
      "2.매치된다\n"
     ]
    }
   ],
   "source": [
    "if re.match('[0123456789]','1'):print(\"1.매치된다\")    \n",
    "if re.match('[0-9]','1'):print(\"2.매치된다\")    "
   ]
  },
  {
   "cell_type": "code",
   "execution_count": 43,
   "metadata": {},
   "outputs": [
    {
     "name": "stdout",
     "output_type": "stream",
     "text": [
      "4.매치된다\n"
     ]
    }
   ],
   "source": [
    "if re.match('[a-z,A-Z]','1'):print(\"3.매치된다\")    \n",
    "if re.match('[a-z,A-Z]','B'):print(\"4.매치된다\")    "
   ]
  },
  {
   "cell_type": "code",
   "execution_count": 48,
   "metadata": {},
   "outputs": [
    {
     "name": "stdout",
     "output_type": "stream",
     "text": [
      "6.매치된다\n"
     ]
    }
   ],
   "source": [
    "if re.match('[0-9,a-z]','Aa'):print(\"5.매치된다\")    \n",
    "#문자열내에 존재하기만 하면 체크됨\n",
    "\n",
    "if re.search('[0-9a-z]','Aa'):print(\"6.매치된다\")    "
   ]
  },
  {
   "cell_type": "code",
   "execution_count": 49,
   "metadata": {},
   "outputs": [
    {
     "name": "stdout",
     "output_type": "stream",
     "text": [
      "7.매치된다\n"
     ]
    }
   ],
   "source": [
    "#한글 완성형코드(utf-8)\n",
    "if re.match('[ㄱ-힣,]','가나다bc'):print(\"7.매치된다\")    \n"
   ]
  },
  {
   "cell_type": "markdown",
   "metadata": {},
   "source": [
    "- **.**\n",
    "- 의미 : dot(.)줄바꿈 기호 \\n를 제외하고 모든 문자에 매치>[] 문자 클레스가 아닌 곳에서 해당 문자 클레스 내부에서는 .은 .이다"
   ]
  },
  {
   "cell_type": "code",
   "execution_count": 326,
   "metadata": {},
   "outputs": [
    {
     "name": "stdout",
     "output_type": "stream",
     "text": [
      "1.매치된다\n",
      "2.매치된다\n",
      "3.1매치된다\n",
      "4.매치된다\n",
      "5.매치된다\n",
      "6.매치된다\n",
      "7.매치된다\n"
     ]
    }
   ],
   "source": [
    "if re.match('[a.b]','a'):print(\"1.매치된다\")   #0\n",
    "if re.match('[a.b]','b'):print(\"2.매치된다\")   #0\n",
    "if re.match('[a.b]','c'):print(\"3.매치된다\")   #x\n",
    "if re.match('[a.b]','.'):print(\"3.1매치된다\")   #o\n",
    "    \n",
    "if re.match('[a.b]','ab'):print(\"4.매치된다\")   #0\n",
    "if re.match('[a.b]','a1b'):print(\"5.매치된다\")   #0\n",
    "if re.match('[a.b]','abc'):print(\"6.매치된다\")   #0\n",
    "if re.match('[a.b]','bod'):print(\"7.매치된다\")   #0\n",
    "if re.match('[a.b]','cab'):print(\"8.매치된다\")   #x"
   ]
  },
  {
   "cell_type": "code",
   "execution_count": 54,
   "metadata": {},
   "outputs": [
    {
     "name": "stdout",
     "output_type": "stream",
     "text": [
      "3.매치된다\n",
      "4.매치된다\n"
     ]
    }
   ],
   "source": [
    "#a문자b 라는 형태로 출발해야 통과\n",
    "if re.match('a.b','a'):print(\"1.매치된다\")   \n",
    "if re.match('a.b','abc'):print(\"2.매치된다\")   \n",
    "if re.match('a.b','a1b'):print(\"3.매치된다\")   \n",
    "if re.match('a.b','a1be'):print(\"4.매치된다\")   "
   ]
  },
  {
   "cell_type": "markdown",
   "metadata": {},
   "source": [
    "- **^**\n",
    "- 의미 : 일반문자열 > 문자열의 맨 처음과 일치함을 의미 \n",
    "        문자클레스내 > 배제, 해당 문자 배제\n",
    "        re.MULTILINE > 각 라인의 처음과 일치함을 조사\n",
    "    \n",
    "- **$**\n",
    "- 의미 : 문자열의 맨 끝과 일치.\n",
    "    \n",
    "- *\n",
    "- 의미 : *를 붙인 바로 앞문자 0-무한대\n",
    "    \n",
    "- **+**\n",
    "\n",
    "- 의미 : +를 붙인 바로 앞 문자 1-무한대 \n",
    "-          문자열 클레스 내부에서 기술하면, 단순 +가 될수도 있고, 반복의 의미가 될 수도 있다.( 주변값을 고려해서 해석)"
   ]
  },
  {
   "cell_type": "code",
   "execution_count": null,
   "metadata": {},
   "outputs": [],
   "source": [
    "re.MULTILINE"
   ]
  },
  {
   "cell_type": "code",
   "execution_count": 58,
   "metadata": {},
   "outputs": [
    {
     "name": "stdout",
     "output_type": "stream",
     "text": [
      "1.매치된다\n"
     ]
    }
   ],
   "source": [
    "# 숫자나 . 으로 시작하고 끝난다\n",
    "if re.match('^[0-9\\.]$','1'):print(\"1.매치된다\")   # ^로 시작해서 $로 끝나야한다"
   ]
  },
  {
   "cell_type": "code",
   "execution_count": 59,
   "metadata": {},
   "outputs": [
    {
     "name": "stdout",
     "output_type": "stream",
     "text": [
      "1.매치된다\n"
     ]
    }
   ],
   "source": [
    "if re.match('^[0-9\\.]$','.'):print(\"1.매치된다\")"
   ]
  },
  {
   "cell_type": "code",
   "execution_count": 327,
   "metadata": {},
   "outputs": [],
   "source": [
    "#문자열은 1개 > 문자의 수량에서 false가 되었다 > 해결방안 : * or +\n",
    "if re.match('^[0-9\\.]$','11'):print(\"1.매치된다\")\n",
    "if re.match('^[0-9\\.]$','1.'):print(\"1.매치된다\")\n",
    "if re.match('^[0-9\\.]$','.1'):print(\"1.매치된다\")\n",
    "if re.match('^[0-9\\.]$','..'):print(\"1.매치된다\")"
   ]
  },
  {
   "cell_type": "code",
   "execution_count": 328,
   "metadata": {},
   "outputs": [
    {
     "name": "stdout",
     "output_type": "stream",
     "text": [
      "1.매치된다\n",
      "1.매치된다\n",
      "1.매치된다\n",
      "1.매치된다\n"
     ]
    }
   ],
   "source": [
    "if re.match('^[0-9\\.]*$','11'):print(\"1.매치된다\")\n",
    "if re.match('^[0-9\\.]*$','1.'):print(\"1.매치된다\")\n",
    "if re.match('^[0-9\\.]*$','.1'):print(\"1.매치된다\")\n",
    "if re.match('^[0-9\\.]*$','..'):print(\"1.매치된다\")"
   ]
  },
  {
   "cell_type": "code",
   "execution_count": 329,
   "metadata": {},
   "outputs": [],
   "source": [
    "#정규식의 패턴이 늘어남에 따라 match종합적인 조건을 따지게 된다.\n",
    "# 시작문자 and 끝 문자 and 문자수 and 문자 성분 \n",
    "if re.match('^[0-9\\.]*$','adsf'):print(\"1.매치된다\")"
   ]
  },
  {
   "cell_type": "code",
   "execution_count": 69,
   "metadata": {},
   "outputs": [
    {
     "name": "stdout",
     "output_type": "stream",
     "text": [
      "2.매치된다\n",
      "3.매치된다\n",
      "4.매치된다\n"
     ]
    }
   ],
   "source": [
    "#[^0-9]: 숫자를 제외하고 모든 문자가 시작문자가 될 수 있다.\n",
    "\n",
    "if re.match('[^0-9]','1'):print(\"1.매치된다\")\n",
    "if re.match('[^0-9]','ㄱ'):print(\"2.매치된다\")\n",
    "if re.match('[^0-9]','ㄴ'):print(\"3.매치된다\")\n",
    "if re.match('[^0-9]','ab'):print(\"4.매치된다\")"
   ]
  },
  {
   "cell_type": "code",
   "execution_count": 377,
   "metadata": {},
   "outputs": [
    {
     "data": {
      "text/plain": [
       "'류현진 (32)이 메이저리그에서 제2의 출발을 한다. \\n\\n\\n\\n\\n이번 겨울 FA 자격을 얻은 류현진은 토론토와 4년 8000만 달러 계약에 합의했다. 2002년 박찬호(5년 6500만)를 넘어서는 한국인 투수 최대 규모. 토론토 구단 역사상 FA 투수에게 쓴 가장 많은 돈이기도 하다. 류현진은 계약을 무효화할 수 있는 옵트아웃이 없는 대신 트레이드 거부권을 포함시켰다.\\n\\n\\n\\n\\n빠르게 돌아갔던 전체적인 스토브리그와 달리 류현진의 계약은 다소 지체됐다. 심지어 한 등급 아래로 평가받았던 댈러스 카이클(화이트삭스)과 웨이드 마일리(신시내티)보다도 계약이 늦었다.\\n\\n\\n\\n\\n류현진 측은 급하게 움직이지 않았다. 010-4878-1636 에이전트 스캇 보라스는 류현진을 영입해도 드래프트 지명권이 박탈되지 않기 때문에 그 부분에서 이점이 있다고 말한 바 있다. 실제로 존 헤이먼(MLB네트워크)은 오늘 오전에도 원 소속팀 LA 다저스와 알려지지 않은 미스터리 팀을 비롯해 6~7팀이 류현진을 주시하고 있다고 전했다.\\n\\n\\n\\n\\n이번 겨울 선발진을 정비해야 될 팀들은 많았다. 010.4878.1636 이가운데 류현진 영입을 가장 적극적으로 밀어붙인 팀은 단연 토론토였다. 토론토는 협상 과정에서 진척이 있었던 것으로 공개된 유일한 팀이다. 프런트라인에 설 수 있는 투수가 필요했던 토론토는 류현진이 적격이라고 판단했다.\\n'"
      ]
     },
     "execution_count": 377,
     "metadata": {},
     "output_type": "execute_result"
    }
   ],
   "source": [
    "data='''류현진 (32)이 메이저리그에서 제2의 출발을 한다. \n",
    "\n",
    "\n",
    "\n",
    "\n",
    "이번 겨울 FA 자격을 얻은 류현진은 토론토와 4년 8000만 달러 계약에 합의했다. 2002년 박찬호(5년 6500만)를 넘어서는 한국인 투수 최대 규모. 토론토 구단 역사상 FA 투수에게 쓴 가장 많은 돈이기도 하다. 류현진은 계약을 무효화할 수 있는 옵트아웃이 없는 대신 트레이드 거부권을 포함시켰다.\n",
    "\n",
    "\n",
    "\n",
    "\n",
    "빠르게 돌아갔던 전체적인 스토브리그와 달리 류현진의 계약은 다소 지체됐다. 심지어 한 등급 아래로 평가받았던 댈러스 카이클(화이트삭스)과 웨이드 마일리(신시내티)보다도 계약이 늦었다.\n",
    "\n",
    "\n",
    "\n",
    "\n",
    "류현진 측은 급하게 움직이지 않았다. 010-4878-1636 에이전트 스캇 보라스는 류현진을 영입해도 드래프트 지명권이 박탈되지 않기 때문에 그 부분에서 이점이 있다고 말한 바 있다. 실제로 존 헤이먼(MLB네트워크)은 오늘 오전에도 원 소속팀 LA 다저스와 알려지지 않은 미스터리 팀을 비롯해 6~7팀이 류현진을 주시하고 있다고 전했다.\n",
    "\n",
    "\n",
    "\n",
    "\n",
    "이번 겨울 선발진을 정비해야 될 팀들은 많았다. 010.4878.1636 이가운데 류현진 영입을 가장 적극적으로 밀어붙인 팀은 단연 토론토였다. 토론토는 협상 과정에서 진척이 있었던 것으로 공개된 유일한 팀이다. 프런트라인에 설 수 있는 투수가 필요했던 토론토는 류현진이 적격이라고 판단했다.\n",
    "'''\n",
    "data\n",
    "#특정 단어가 시작 문자로 여러줄에 걸쳐서 등장한다."
   ]
  },
  {
   "cell_type": "code",
   "execution_count": 378,
   "metadata": {},
   "outputs": [],
   "source": [
    "p = re.compile('\\n')\n",
    "r = p.sub(\"\",data)\n",
    "data = r"
   ]
  },
  {
   "cell_type": "code",
   "execution_count": null,
   "metadata": {},
   "outputs": [],
   "source": []
  },
  {
   "cell_type": "code",
   "execution_count": 379,
   "metadata": {},
   "outputs": [],
   "source": [
    "#정규식을 컴파일 하고 ,\n",
    "#이를 이용하여 데이터를 처리 한다.\n",
    "#\\s : white space(공백, 탭,,,,)\n",
    "#\\w : 한 단어[+,* 통해서 늘릴수 있다] 한덩어리\n",
    "# 류현진으로 시작하고 한칸 띄고 한 단어 까지로 시작하는 문자열\n",
    "p=re.compile('^류현진\\s\\w+')"
   ]
  },
  {
   "cell_type": "code",
   "execution_count": 380,
   "metadata": {},
   "outputs": [
    {
     "data": {
      "text/plain": [
       "[]"
      ]
     },
     "execution_count": 380,
     "metadata": {},
     "output_type": "execute_result"
    }
   ],
   "source": [
    "# 한번밖에 안나온다 > 멀티 라인 미지원\n",
    "p.findall(data)"
   ]
  },
  {
   "cell_type": "code",
   "execution_count": 381,
   "metadata": {},
   "outputs": [
    {
     "data": {
      "text/plain": [
       "[]"
      ]
     },
     "execution_count": 381,
     "metadata": {},
     "output_type": "execute_result"
    }
   ],
   "source": [
    "# 멀티 라인 지원\n",
    "p=re.compile('^류현진\\s\\w+')\n",
    "p.findall(data)"
   ]
  },
  {
   "cell_type": "code",
   "execution_count": 371,
   "metadata": {},
   "outputs": [
    {
     "data": {
      "text/plain": [
       "['류현진 ', '류현진 측은', '류현진 영입을']"
      ]
     },
     "execution_count": 371,
     "metadata": {},
     "output_type": "execute_result"
    }
   ],
   "source": [
    "#문자열 전체에 동일 패턴이 보이면 다 수집\n",
    "p=re.compile('류현진\\s\\w*',re.MULTILINE)\n",
    "p.findall(data)"
   ]
  },
  {
   "cell_type": "code",
   "execution_count": 372,
   "metadata": {},
   "outputs": [],
   "source": [
    "#핸드폰 전화번호 정규식\n",
    "#010-숫자4개-숫자4개"
   ]
  },
  {
   "cell_type": "code",
   "execution_count": 373,
   "metadata": {},
   "outputs": [
    {
     "name": "stdout",
     "output_type": "stream",
     "text": [
      "4.매치된다\n"
     ]
    }
   ],
   "source": [
    "# 문자열의 끝 패턴\n",
    "if re.match('^[0-9]+[a-z]+$','1'):print('1.매치된다')\n",
    "if re.match('^[0-9]+[a-z]+$','11'):print('2.매치된다')\n",
    "if re.match('^[0-9]+[a-z]+$','111111A'):print('3.매치된다')\n",
    "if re.match('^[0-9]+[a-z]+$','111111a'):print('4.매치된다')\n"
   ]
  },
  {
   "cell_type": "code",
   "execution_count": 374,
   "metadata": {},
   "outputs": [
    {
     "name": "stdout",
     "output_type": "stream",
     "text": [
      "1.매치된다\n",
      "1.매치된다\n",
      "1.매치된다\n"
     ]
    }
   ],
   "source": [
    "#반복\n",
    "# * : 0~ 무한대\n",
    "if re.match('bus*an','buan'):print('1.매치된다')\n",
    "if re.match('bus*an','busan'):print('1.매치된다')\n",
    "if re.match('bus*an','bussan'):print('1.매치된다')    "
   ]
  },
  {
   "cell_type": "code",
   "execution_count": 273,
   "metadata": {},
   "outputs": [
    {
     "name": "stdout",
     "output_type": "stream",
     "text": [
      "1.매치된다\n",
      "2.매치된다\n",
      "3.매치된다\n"
     ]
    }
   ],
   "source": [
    "# + : 1~무한대\n",
    "if re.match('bus*an','buan'):print('1.매치된다')\n",
    "if re.match('bus+an','busan'):print('2.매치된다')\n",
    "if re.match('bus+an','bussan'):print('3.매치된다')    "
   ]
  },
  {
   "cell_type": "markdown",
   "metadata": {},
   "source": [
    "- {}\n",
    "    - 반복 횟수 지정\n",
    "    - {2} 2번 반복\n",
    "    - {2, 3} 2번 부터 3까지 반복\n",
    "- ?    \n",
    "    - {0, 1}\n",
    "    - 0번ok, 1번 ok\n",
    "    - 안나오던지, 나오면 1번만 나오던지"
   ]
  },
  {
   "cell_type": "code",
   "execution_count": 154,
   "metadata": {},
   "outputs": [
    {
     "name": "stdout",
     "output_type": "stream",
     "text": [
      "3.매치된다\n"
     ]
    }
   ],
   "source": [
    "if re.match('bus{2}an','buan'):print('1.매치된다')    \n",
    "if re.match('bus{2}an','busan'):print('2.매치된다')    \n",
    "if re.match('bus{2}an','bussan'):print('3.매치된다')    "
   ]
  },
  {
   "cell_type": "code",
   "execution_count": 155,
   "metadata": {},
   "outputs": [
    {
     "name": "stdout",
     "output_type": "stream",
     "text": [
      "1.매치된다\n"
     ]
    }
   ],
   "source": [
    "#문자 클레스 안에서는 본질적인 의미가 없어지다. 그냥 문자로본다\n",
    "if re.match('[bus{2}an]','buan'):print('1.매치된다')    "
   ]
  },
  {
   "cell_type": "code",
   "execution_count": 160,
   "metadata": {},
   "outputs": [
    {
     "name": "stdout",
     "output_type": "stream",
     "text": [
      "3.매치된다\n",
      "4.매치된다\n"
     ]
    }
   ],
   "source": [
    "#n~n까지\n",
    "if re.match('bus{2,3}an','buan'):print('1.매치된다')    \n",
    "if re.match('bus{2,3}an','busan'):print('2.매치된다')    \n",
    "if re.match('bus{2,3}an','bussan'):print('3.매치된다')    \n",
    "if re.match('bus{2,3}an','busssan'):print('4.매치된다')    \n",
    "if re.match('bus{2,3}an','bussssan'):print('5.매치된다')    \n",
    "if re.match('bus{2,3}an','busssssan'):print('6.매치된다')    \n",
    "if re.match('bus{2,3}an','bussssssan'):print('7.매치된다')    "
   ]
  },
  {
   "cell_type": "code",
   "execution_count": 161,
   "metadata": {},
   "outputs": [
    {
     "name": "stdout",
     "output_type": "stream",
     "text": [
      "3.매치된다\n",
      "4.매치된다\n",
      "5.매치된다\n"
     ]
    }
   ],
   "source": [
    "#n~n까지\n",
    "if re.match('bus{2,4}an','buan'):print('1.매치된다')    \n",
    "if re.match('bus{2,4}an','busan'):print('2.매치된다')    \n",
    "if re.match('bus{2,4}an','bussan'):print('3.매치된다')    \n",
    "if re.match('bus{2,4}an','busssan'):print('4.매치된다')    \n",
    "if re.match('bus{2,4}an','bussssan'):print('5.매치된다')    \n",
    "if re.match('bus{2,4}an','busssssan'):print('6.매치된다')    \n",
    "if re.match('bus{2,4}an','bussssssan'):print('7.매치된다')    "
   ]
  },
  {
   "cell_type": "code",
   "execution_count": 162,
   "metadata": {},
   "outputs": [
    {
     "name": "stdout",
     "output_type": "stream",
     "text": [
      "1.매치된다\n",
      "2.매치된다\n"
     ]
    }
   ],
   "source": [
    "if re.match('bus?an','buan'):print('1.매치된다')    \n",
    "if re.match('bus?an','busan'):print('2.매치된다')        \n",
    "if re.match('bus?an','bussan'):print('3.매치된다')        "
   ]
  },
  {
   "cell_type": "code",
   "execution_count": 179,
   "metadata": {},
   "outputs": [
    {
     "name": "stdout",
     "output_type": "stream",
     "text": [
      "2.매치된다\n"
     ]
    }
   ],
   "source": [
    "#핸드폰 전화번호 정규식\n",
    "#010-숫자4개-숫자4개\n",
    "if re.match('^010-[0-9]{5,8}','010-4878-1636'):print('1.매치된다')    #내가한거\n",
    "if re.match('^010-[0-9]{4}-[0-9]{4}$','010-4878-1636'):print('2.매치된다')    "
   ]
  },
  {
   "cell_type": "markdown",
   "metadata": {},
   "source": [
    "### 메타문자 > 이스케이프\n",
    "- \\d <-> \\D\n",
    "- \\s <-> \\S\n",
    "- \\w <-> \\W\n",
    "- \\b <-> \\B\n",
    "- 기타\n",
    "    - 문자 클레스에서 특수 문자, 화이트 스페이스 등을 표현할 때\n",
    "    - . => \\ . 이런식으로 표현 할수 있다. "
   ]
  },
  {
   "cell_type": "code",
   "execution_count": 181,
   "metadata": {},
   "outputs": [
    {
     "name": "stdout",
     "output_type": "stream",
     "text": [
      "1.매치된다\n"
     ]
    }
   ],
   "source": [
    "# \\d : 숫자 > [0-9]\n",
    "if re.match('[\\d]','1'):print('1.매치된다')    \n",
    "if re.match('[\\d]','a'):print('2.매치된다')    \n"
   ]
  },
  {
   "cell_type": "code",
   "execution_count": 182,
   "metadata": {},
   "outputs": [
    {
     "name": "stdout",
     "output_type": "stream",
     "text": [
      "2.매치된다\n"
     ]
    }
   ],
   "source": [
    "# \\d : 숫자빼고 나머지  > [^0-9]\n",
    "if re.match('[\\D]','1'):print('1.매치된다')    \n",
    "if re.match('[\\D]','a'):print('2.매치된다')    "
   ]
  },
  {
   "cell_type": "code",
   "execution_count": 186,
   "metadata": {},
   "outputs": [
    {
     "name": "stdout",
     "output_type": "stream",
     "text": [
      "1.매치된다\n"
     ]
    }
   ],
   "source": [
    "# \\s -> whitespace : \\t, \\n,\\r,\\f,\\v\n",
    "# 탭, 개행, 캐리지리턴, 폼 피드, 수직탭=> 눈에 보이지 않고,\n",
    "# 공백처럼 보이면서 문자열 상에 정보를 제공 \n",
    "if re.match('[\\s]',' \\t\\n\\r\\f\\v'):print('1.매치된다')    \n",
    "if re.match('[\\s]','a \\t\\n\\r\\f\\v'):print('2.매치된다')    "
   ]
  },
  {
   "cell_type": "code",
   "execution_count": 185,
   "metadata": {},
   "outputs": [
    {
     "name": "stdout",
     "output_type": "stream",
     "text": [
      "2.매치된다\n"
     ]
    }
   ],
   "source": [
    "# \\S -> whitespace가 아닌 문자\n",
    "if re.match('[\\S]',' \\t\\n\\r\\f\\v'):print('1.매치된다')    \n",
    "if re.match('[\\S]','a \\t\\n\\r\\f\\v'):print('2.매치된다')    "
   ]
  },
  {
   "cell_type": "code",
   "execution_count": null,
   "metadata": {},
   "outputs": [],
   "source": [
    "# \\w  -> 문자, 숫자와 매치 : [a-zA-Z0-9ㄱ-힣], 언어면 다 ok\n",
    "if re.match('[\\w]','a0'):print('1.매치된다')    \n",
    "if re.match('[\\w]','가'):print('2.매치된다')   \n",
    "if re.match('[\\w]','1'):print('3.매치된다')   \n",
    "if re.match('[\\w]','a'):print('4.매치된다')   "
   ]
  },
  {
   "cell_type": "code",
   "execution_count": 356,
   "metadata": {},
   "outputs": [
    {
     "name": "stdout",
     "output_type": "stream",
     "text": [
      "2.매치된다\n"
     ]
    }
   ],
   "source": [
    "# \\W -> 문자, 숫자가 아닌 문자와 매치, 특수문자, 이스케이프 문자\n",
    "# [^a-zA-Z0-9ㄱ-힣]\n",
    "if re.match('[\\W]','a'):print('1.매치된다')    \n",
    "if re.match('[\\W]','\\t'):print('2.매치된다')   "
   ]
  },
  {
   "cell_type": "markdown",
   "metadata": {},
   "source": [
    "매치된다"
   ]
  },
  {
   "cell_type": "code",
   "execution_count": 196,
   "metadata": {},
   "outputs": [
    {
     "name": "stdout",
     "output_type": "stream",
     "text": [
      "ABC가나다\t]\n",
      "라\n"
     ]
    }
   ],
   "source": [
    "#일반 문자열은 인용부호(예:줄바꿈....)는 해석되서 처리된다\n",
    "\n",
    "a='ABC가나다\\t]\\n라'\n",
    "print(a)"
   ]
  },
  {
   "cell_type": "code",
   "execution_count": 194,
   "metadata": {},
   "outputs": [
    {
     "name": "stdout",
     "output_type": "stream",
     "text": [
      "ABC가나다\\t]\\n라 <class 'str'>\n"
     ]
    }
   ],
   "source": [
    "#만약 데이터 그대로 받고 싶다면\n",
    "#Raw String\n",
    "#이스케이프 문자가 적용되지 않는다\n",
    "a= r'ABC가나다\\t]\\n라'\n",
    "print(a,type(a))"
   ]
  },
  {
   "cell_type": "code",
   "execution_count": 355,
   "metadata": {},
   "outputs": [
    {
     "data": {
      "text/plain": [
       "(<re.Match object; span=(3, 8), match='class'>, 'class')"
      ]
     },
     "execution_count": 355,
     "metadata": {},
     "output_type": "execute_result"
    }
   ],
   "source": [
    "# \\b 단어 구분자(word boundary)\n",
    "# 일반 단어는 whitespace로 구분 된다.\n",
    "# \\b는 일반 단어에서 백키로 인식한다. 이 자체를 그대로 인식\n",
    "# 하기위해서 raw string으로 표현 해야 한다.\n",
    "p=re.compile('\\bclass\\b')\n",
    "p=re.compile(r'\\bclass\\b')\n",
    "m=p.search('no class at 1234')\n",
    "m, m.group()\n",
    "\n",
    "#ㄴ>>>> 공백 class 공백 인 문장을 만들고 그리고 search라는 데이터 속에서  (공백) class (공백) 인걸 찾는거임\n"
   ]
  },
  {
   "cell_type": "code",
   "execution_count": 198,
   "metadata": {},
   "outputs": [
    {
     "data": {
      "text/plain": [
       "(<re.Match object; span=(3, 8), match='class'>, 'class')"
      ]
     },
     "execution_count": 198,
     "metadata": {},
     "output_type": "execute_result"
    }
   ],
   "source": [
    "m=p.search('no class at 1234')\n",
    "m, m.group()"
   ]
  },
  {
   "cell_type": "code",
   "execution_count": 201,
   "metadata": {},
   "outputs": [
    {
     "name": "stdout",
     "output_type": "stream",
     "text": [
      "None\n"
     ]
    }
   ],
   "source": [
    "m=p.search('the classifilter at one')\n",
    "print(m)"
   ]
  },
  {
   "cell_type": "markdown",
   "metadata": {},
   "source": [
    "### 함수\n",
    "\n",
    "- match()\n",
    "    - 문자열의 처음부터 정규식과 매칭되는지 조사 \n",
    "- search()\n",
    "    - 문자열 전체를 검색하여 매칭되는지 조사\n",
    "- findall()\n",
    "    - 정규식에 매칭되는 모든 문자열을 리스트로 리턴\n",
    "- finditer()\n",
    "    - 정규식에 매칭되는 모든 문자열을 iterator로 리턴\n",
    "- sub()\n",
    "    - 규칙과 매칭되는 부분을 다른 문자로 변경 "
   ]
  },
  {
   "cell_type": "code",
   "execution_count": 203,
   "metadata": {},
   "outputs": [],
   "source": [
    "# 숫자가 나오고, 1~무한대로 반복될수 있다\n",
    "p=re.compile('[0-9]+')"
   ]
  },
  {
   "cell_type": "code",
   "execution_count": 204,
   "metadata": {},
   "outputs": [
    {
     "name": "stdout",
     "output_type": "stream",
     "text": [
      "None\n"
     ]
    }
   ],
   "source": [
    "r=p.match('abcd5')\n",
    "print(r)"
   ]
  },
  {
   "cell_type": "code",
   "execution_count": 207,
   "metadata": {},
   "outputs": [
    {
     "name": "stdout",
     "output_type": "stream",
     "text": [
      "<re.Match object; span=(0, 1), match='5'>\n",
      "5 일치되는 데이터가 나온다\n"
     ]
    }
   ],
   "source": [
    "r=p.match('5')\n",
    "print(r)\n",
    "if r :\n",
    "    print(r.group(),'일치되는 데이터가 나온다')"
   ]
  },
  {
   "cell_type": "code",
   "execution_count": 209,
   "metadata": {},
   "outputs": [
    {
     "name": "stdout",
     "output_type": "stream",
     "text": [
      "<re.Match object; span=(0, 3), match='123'>\n",
      "123 일치되는 데이터가 나온다\n"
     ]
    }
   ],
   "source": [
    "r=p.match('123abcd')\n",
    "print(r)\n",
    "if r :\n",
    "    print(r.group(),'일치되는 데이터가 나온다')\n",
    "else:\n",
    "    print(\"일치되는 데이터가 없다\")"
   ]
  },
  {
   "cell_type": "code",
   "execution_count": 228,
   "metadata": {},
   "outputs": [
    {
     "data": {
      "text/plain": [
       "['i', 'am', 'a', 'u', 'an']"
      ]
     },
     "execution_count": 228,
     "metadata": {},
     "output_type": "execute_result"
    }
   ],
   "source": [
    "data= 'i am a HuMan, 2020 가나다라마바사 !@#$'\n",
    "#소문자만 찾아서 소문자 글자 리스트로 리턴해라\n",
    "p=re.compile('[a-z]+')\n",
    "r=p.findall(data)\n",
    "r"
   ]
  },
  {
   "cell_type": "code",
   "execution_count": 235,
   "metadata": {},
   "outputs": [
    {
     "name": "stdout",
     "output_type": "stream",
     "text": [
      "i 0 1 (0, 1)\n",
      "am 2 4 (2, 4)\n",
      "a 5 6 (5, 6)\n",
      "u 8 9 (8, 9)\n",
      "an 10 12 (10, 12)\n"
     ]
    }
   ],
   "source": [
    "r=p.finditer(data)\n",
    "for n in r:\n",
    "    print(n.group(), n.start(), n.end(), n.span())# .group()는 실제 값의 결과가 나옴 ( 실제값, 시작 인덱스, 끝 인덱스, 인덱스, 튜플값)\n",
    "#    - match()<<1개만 나옴 < search()? < findall()< 다찾는거 < finditer()<<다나오는거"
   ]
  },
  {
   "cell_type": "code",
   "execution_count": null,
   "metadata": {},
   "outputs": [],
   "source": [
    "# 매치되는 부분을 다른 문자로 변경\n",
    "p= re.compile('(blue|red|white)')"
   ]
  },
  {
   "cell_type": "code",
   "execution_count": 236,
   "metadata": {},
   "outputs": [
    {
     "data": {
      "text/plain": [
       "'색상 케이크 그리고 색상 와인을 가지고 집에 가세요'"
      ]
     },
     "execution_count": 236,
     "metadata": {},
     "output_type": "execute_result"
    }
   ],
   "source": [
    "# 문자열 대체\n",
    "p.sub(\"색상\", 'white 케이크 그리고 red 와인을 가지고 집에 가세요')"
   ]
  },
  {
   "cell_type": "code",
   "execution_count": 237,
   "metadata": {},
   "outputs": [
    {
     "data": {
      "text/plain": [
       "' 케이크 그리고  와인을 가지고 집에 가세요'"
      ]
     },
     "execution_count": 237,
     "metadata": {},
     "output_type": "execute_result"
    }
   ],
   "source": [
    "p.sub('', 'white 케이크 그리고 red 와인을 가지고 집에 가세요')"
   ]
  },
  {
   "cell_type": "code",
   "execution_count": 256,
   "metadata": {},
   "outputs": [
    {
     "data": {
      "text/plain": [
       "'\\nBTS (Korean: 방탄소년단;'"
      ]
     },
     "execution_count": 256,
     "metadata": {},
     "output_type": "execute_result"
    }
   ],
   "source": [
    "test_txt = '''\n",
    "BTS (Korean: 방탄소년단; RR: Bangtan Sonyeondan), also known as the Bangtan Boys, is a seven-member South Korean boy band formed in Seoul in 2013. The septet co-writes and produces much of their output. Originally a hip hop group, their musical style has evolved to include a wide range of genres. Their lyrics, often focused on personal and social commentary, touch on the themes of mental health, troubles of school-age youth, loss, the journey towards loving oneself, and individualism. Their work features references to literature and psychological concepts and includes an alternative universe storyline. The group have staged several world tours.\n",
    "\n",
    "The group initially formed as teenagers under Big Hit Entertainment and released their debut single album, 2 Cool 4 Skool (2013). Subsequent work such as their first U.S. Billboard 200 entries The Most Beautiful Moment in Life, Part 2 (2015), The Most Beautiful Moment in Life: Young Forever (2016), and Wings (2016) helped establish BTS' reputation as a socially conscious group. Wings became BTS' first album to sell one million copies in South Korea. By 2017, BTS crossed into the international music market, leading the Korean Wave into the United States and breaking numerous sales records, becoming the first Korean group to receive a certification from the Recording Industry Association of America (RIAA) for their single \"Mic Drop\". The band is the first Korean act to top the Billboard 200 with their studio album Love Yourself: Tear (2018) and have since hit the top of the U.S. charts with their albums Love Yourself: Answer (2018) and Map of the Soul: Persona (2019), making BTS the first group since the Beatles to earn three number one albums in less than a year. Love Yourself: Answer also broke South Korea's Gaon Album Chart's all-time monthly record previously set by Love Yourself: Tear and became the first Korean album certified Gold in the United States.\n",
    "\n",
    "According to the Gaon Music Chart, BTS has sold sixteen million albums domestically in physical sales and is the best-selling artist to debut in the 2010s.[3] They hold the best-selling album in Korean history with Map of the Soul: Persona. BTS were the second best-selling artists of 2018 worldwide according to the IFPI's Global Artist Chart, as well as the only non-English speaking artist to enter the chart. The group has won Top Social Artist three years in a row and Top Duo/Group at the 26th Billboard Music Awards. Featured on Time's international cover as \"Next Generation Leaders\", BTS has appeared in the magazine's 25 most influential people on the internet (2017–2019) and Time's 100 most influential people in the world (2019). Forbes Korea named BTS the most influential celebrities of Korea in 2018, and BTS ranked 43rd in the Forbes Celebrity 100 (2019) as one of the world's top-earning celebrities. BTS are ranked #4 of Billboard's Top Social Artist of the 2010s, and are the highest group on the list. During their Love Yourself World Tour, BTS became the first Asian and first non-English speaking act to headline and sell out Wembley Stadium; and broke the record for the single highest-grossing engagement in Rose Bowl Stadium history. Billboard ranked BTS at #45 on their Top Touring Artists of the 2010s list, being the highest-ranked Asian as well as the only non-English speaking act on the list. As of 2019, BTS are purportedly worth more than $4.65 billion to South Korea's economy each year, or 0.3 percent of the country's GDP. BTS attracted one in every 13 foreign tourists that visited South Korea and were cited as one of the key acts boosting global music sales to $19 billion in 2018.\n",
    "\n",
    "Following the establishment of thei\\r Love Myself anti-violence campaign in partnership with UNICEF, BTS addressed the United Nations 73rd General Assembly and became the youngest ever recipients of the Order of Cultural Merit from the President of South Korea due to their contributions in spreading Korean culture and language.\n",
    "\n",
    "\\\n",
    "'''\n",
    "test_txt[:20]"
   ]
  },
  {
   "cell_type": "code",
   "execution_count": 251,
   "metadata": {},
   "outputs": [],
   "source": [
    "#원문에서 한글 제거\n",
    "# 한굴, 초성+중성+종성> euc-krm 16bit > 조합형 코드\n",
    "#한글 가, 갸, 거,겨 > utf-8 8bit > 완성형 코드\n",
    "#완성형 기준 => ㄱ -> ㅣ -> |  가 ~ 힣\n",
    "hangul = re.compile('[ㄱ-ㅣ가-힣]+')"
   ]
  },
  {
   "cell_type": "code",
   "execution_count": 6,
   "metadata": {},
   "outputs": [
    {
     "data": {
      "text/plain": [
       "'\\nBTS (Korean: ; RR: Bangtan Sonyeondan), also known as the Bangtan Boys, is a seven-member South Kor'"
      ]
     },
     "execution_count": 6,
     "metadata": {},
     "output_type": "execute_result"
    }
   ],
   "source": [
    "#한글을 \"\"으로 대체 해라> 제거 해라\n",
    "hangul.sub('', test_txt )[:100]"
   ]
  },
  {
   "cell_type": "code",
   "execution_count": 7,
   "metadata": {},
   "outputs": [],
   "source": [
    "alpha=re.compile('[a-z,A-Z]+')"
   ]
  },
  {
   "cell_type": "code",
   "execution_count": 8,
   "metadata": {},
   "outputs": [
    {
     "data": {
      "text/plain": [
       "'\\n (: 방탄소년단; :  )         -         2013.   -      .                 .                   -         .               .       .\\n\\n                2  4  (2013).       ..  200         2 (2015)      :   (2016)   (2016)   \\'      .   \\'          .  2017                                     ()    \" \".            200      :  (2018)         ..      :  (2018)     :  (2019)                   .  :     \\'   \\' -       :             .\\n\\n                   -      2010.[3]    -         : .     -   2018     \\'         -      .               /   26   .   \\'    \"  \"      \\' 25       (2017–2019)  \\' 100       (2019).            2018    43     100 (2019)     \\' - .    #4  \\'      2010        .              -         ;        -      .     #45        2010    -       -     .   2019       $4.65    \\'     0.3    \\' .      13                     $19   2018.\\n\\n       -           73                              .\\n\\n\\n'"
      ]
     },
     "execution_count": 8,
     "metadata": {},
     "output_type": "execute_result"
    }
   ],
   "source": [
    "alpha.sub('', test_txt)"
   ]
  },
  {
   "cell_type": "markdown",
   "metadata": {},
   "source": [
    "### 리뷰 \n",
    "\n",
    "- 어떤 요구사항을 구현하는데, 같은 형태가 반복적으로 등장 한다면 \n",
    "- 그 형태가 데이터도 있고, 어떤 행동(행위, 동사)등 존재 한다면\n",
    "- class라는 형태를 도입하는것이 가장 쉽게 구현하는 방법이다.\n",
    "    - 게임 : 총알( 무한대로 발사, 속도, 이동한다, 데미지를 준다 등등) \n",
    "    - GUI : 윈도우, 팝업, (화면에 보인다, 안보인다, 메시지, 좌표)\n",
    "    ex) ~한다 로 생기면 class로 표현하기 쉬움\n",
    "- class는 데이터(멤버 변수), 행동(멤버 함수)로 구성된다(몇가지 추가요소가 있다.)\n",
    "    - 추가요소 : 생성자=>def __init__(self):\n",
    "    - 생성자는 언제 호출되는가?\n",
    "        - 객체를 생성하면\n",
    "            - 객체는 class를 메모리 공간에 할당하면 그것을 객체라고 부른다.\n",
    "            - class의 인스턴스가 객체이다.\n",
    "            - 객체를 생성하면 내부적으로는 생성자가 자동호출된다.\n",
    "            - 생성자 함수 내부가 객체가 생성될 때 가장 먼저 수행하는 일들을 구현하면 된다.(예) 맴버 변수 초기화)\n",
    "            - 객체를 생성하면 (생성자가 호출되면) 메모리를 할당하고 내부적을로 알 수 없는 작업들이 무두 끝나면 객체의 주소를 반환한다.\n",
    "            - p=Person()\n",
    "            - p는 Person객체를 가르키는 주소를 담고있는 레퍼런스 변수, 인스턴스 변수, 객체 변수등등 이라고 한다."
   ]
  },
  {
   "cell_type": "code",
   "execution_count": 16,
   "metadata": {},
   "outputs": [],
   "source": [
    "#동물 class\n",
    "class Ani():\n",
    "    #맴버변수\n",
    "    name=None\n",
    "    \n",
    "    #맴버함수, 모든 멤버 함수의 1번인자 self\n",
    "    \n",
    "    def eat(self,food):\n",
    "        print(food+'를 먹는다.')\n",
    "    #생성자(생략가능)"
   ]
  },
  {
   "cell_type": "code",
   "execution_count": 17,
   "metadata": {},
   "outputs": [],
   "source": [
    "#사용하기 위해 1. 생성\n",
    "a=Ani()"
   ]
  },
  {
   "cell_type": "code",
   "execution_count": 18,
   "metadata": {},
   "outputs": [
    {
     "data": {
      "text/plain": [
       "<__main__.Ani at 0x237eac1cb88>"
      ]
     },
     "execution_count": 18,
     "metadata": {},
     "output_type": "execute_result"
    }
   ],
   "source": [
    "a"
   ]
  },
  {
   "cell_type": "code",
   "execution_count": 19,
   "metadata": {},
   "outputs": [],
   "source": [
    "# 2 사용, 변수, 맴버변수, 변수, 멤버함수\n",
    "a.name"
   ]
  },
  {
   "cell_type": "code",
   "execution_count": 20,
   "metadata": {},
   "outputs": [],
   "source": [
    "a.name = '강아지'"
   ]
  },
  {
   "cell_type": "code",
   "execution_count": 21,
   "metadata": {},
   "outputs": [
    {
     "name": "stdout",
     "output_type": "stream",
     "text": [
      "사료를 먹는다.\n"
     ]
    }
   ],
   "source": [
    "a.eat('사료')"
   ]
  },
  {
   "cell_type": "code",
   "execution_count": 241,
   "metadata": {},
   "outputs": [
    {
     "data": {
      "text/plain": [
       "'\\nBTS (Korean: 방탄소년단; RR: Bangtan Sonyeondan), also known as the Bangtan Boys, is a seven-member South Korean boy band formed in Seoul in 2013. The septet co-writes and produces much of their output. Originally a hip hop group, their musical style has evolved to include a wide range of genres. Their lyrics, often focused on personal and social commentary, touch on the themes of mental health, troubles of school-age youth, loss, the journey towards loving oneself, and individualism. Their work features references to literature and psychological concepts and includes an alternative universe storyline. The group have staged several world tours.\\n\\nThe group initially formed as teenagers under Big Hit Entertainment and released their debut single album, 2 Cool 4 Skool (2013). Subsequent work such as their first U.S. Billboard 200 entries The Most Beautiful Moment in Life, Part 2 (2015), The Most Beautiful Moment in Life: Young Forever (2016), and Wings (2016) helped establish BTS\\' reputation as a socially conscious group. Wings became BTS\\' first album to sell one million copies in South Korea. By 2017, BTS crossed into the international music market, leading the Korean Wave into the United States and breaking numerous sales records, becoming the first Korean group to receive a certification from the Recording Industry Association of America (RIAA) for their single \"Mic Drop\". The band is the first Korean act to top the Billboard 200 with their studio album Love Yourself: Tear (2018) and have since hit the top of the U.S. charts with their albums Love Yourself: Answer (2018) and Map of the Soul: Persona (2019), making BTS the first group since the Beatles to earn three number one albums in less than a year. Love Yourself: Answer also broke South Korea\\'s Gaon Album Chart\\'s all-time monthly record previously set by Love Yourself: Tear and became the first Korean album certified Gold in the United States.\\n\\nAccording to the Gaon Music Chart, BTS has sold sixteen million albums domestically in physical sales and is the best-selling artist to debut in the 2010s.[3] They hold the best-selling album in Korean history with Map of the Soul: Persona. BTS were the second best-selling artists of 2018 worldwide according to the IFPI\\'s Global Artist Chart, as well as the only non-English speaking artist to enter the chart. The group has won Top Social Artist three years in a row and Top Duo/Group at the 26th Billboard Music Awards. Featured on Time\\'s international cover as \"Next Generation Leaders\", BTS has appeared in the magazine\\'s 25 most influential people on the internet (2017–2019) and Time\\'s 100 most influential people in the world (2019). Forbes Korea named BTS the most influential celebrities of Korea in 2018, and BTS ranked 43rd in the Forbes Celebrity 100 (2019) as one of the world\\'s top-earning celebrities. BTS are ranked #4 of Billboard\\'s Top Social Artist of the 2010s, and are the highest group on the list. During their Love Yourself World Tour, BTS became the first Asian and first non-English speaking act to headline and sell out Wembley Stadium; and broke the record for the single highest-grossing engagement in Rose Bowl Stadium history. Billboard ranked BTS at #45 on their Top Touring Artists of the 2010s list, being the highest-ranked Asian as well as the only non-English speaking act on the list. As of 2019, BTS are purportedly worth more than $4.65 billion to South Korea\\'s economy each year, or 0.3 percent of the country\\'s GDP. BTS attracted one in every 13 foreign tourists that visited South Korea and were cited as one of the key acts boosting global music sales to $19 billion in 2018.\\n\\nFollowing the establishment of their Love Myself anti-violence campaign in partnership with UNICEF, BTS addressed the United Nations 73rd General Assembly and became the youngest ever recipients of the Order of Cultural Merit from the President of South Korea due to their contributions in spreading Korean culture and language.\\n\\n\\n'"
      ]
     },
     "execution_count": 241,
     "metadata": {},
     "output_type": "execute_result"
    }
   ],
   "source": [
    "test_txt"
   ]
  },
  {
   "cell_type": "code",
   "execution_count": 358,
   "metadata": {},
   "outputs": [
    {
     "data": {
      "text/plain": [
       "\"BTS Korean  RR Bangtan Sonyeondan also known as the Bangtan Boys is a seven-member South Korean boy band formed in Seoul in  The septet co-writes and produces much of their output Originally a hip hop group their musical style has evolved to include a wide range of genres Their lyrics often focused on personal and social commentary touch on the themes of mental health troubles of school-age youth loss the journey towards loving oneself and individualism Their work features references to literature and psychological concepts and includes an alternative universe storyline The group have staged several world toursThe group initially formed as teenagers under Big Hit Entertainment and released their debut single album  Cool  Skool  Subsequent work such as their first US Billboard  entries The Most Beautiful Moment in Life Part   The Most Beautiful Moment in Life Young Forever  and Wings  helped establish BTS' reputation as a socially conscious group Wings became BTS' first album to sell one million copies in South Korea By  BTS crossed into the international music market leading the Korean Wave into the United States and breaking numerous sales records becoming the first Korean group to receive a certification from the Recording Industry Association of America RIAA for their single Mic Drop The band is the first Korean act to top the Billboard  with their studio album Love Yourself Tear  and have since hit the top of the US charts with their albums Love Yourself Answer  and Map of the Soul Persona  making BTS the first group since the Beatles to earn three number one albums in less than a year Love Yourself Answer also broke South Korea's Gaon Album Chart's all-time monthly record previously set by Love Yourself Tear and became the first Korean album certified Gold in the United StatesAccording to the Gaon Music Chart BTS has sold sixteen million albums domestically in physical sales and is the best-selling artist to debut in the s] They hold the best-selling album in Korean history with Map of the Soul Persona BTS were the second best-selling artists of  worldwide according to the IFPI's Global Artist Chart as well as the only non-English speaking artist to enter the chart The group has won Top Social Artist three years in a row and Top Duo/Group at the th Billboard Music Awards Featured on Time's international cover as Next Generation Leaders BTS has appeared in the magazine's  most influential people on the internet – and Time's  most influential people in the world  Forbes Korea named BTS the most influential celebrities of Korea in  and BTS ranked rd in the Forbes Celebrity   as one of the world's top-earning celebrities BTS are ranked # of Billboard's Top Social Artist of the s and are the highest group on the list During their Love Yourself World Tour BTS became the first Asian and first non-English speaking act to headline and sell out Wembley Stadium and broke the record for the single highest-grossing engagement in Rose Bowl Stadium history Billboard ranked BTS at # on their Top Touring Artists of the s list being the highest-ranked Asian as well as the only non-English speaking act on the list As of  BTS are purportedly worth more than $ billion to South Korea's economy each year or  percent of the country's GDP BTS attracted one in every  foreign tourists that visited South Korea and were cited as one of the key acts boosting global music sales to $ billion in Following the establishment of thei\\r Love Myself anti-violence campaign in partnership with UNICEF BTS addressed the United Nations rd General Assembly and became the youngest ever recipients of the Order of Cultural Merit from the President of South Korea due to their contributions in spreading Korean culture and language\""
      ]
     },
     "execution_count": 358,
     "metadata": {},
     "output_type": "execute_result"
    }
   ],
   "source": [
    "# 한글\n",
    "# 문자 클레스내에 특수문자 표시 앞에 \\를 추가 해도되고, 빼도 된다.\n",
    "han=re.compile('[ㄱ-힣\\n\\:\\;\\,\\.\\(\\)\\\"[0-9]+')\n",
    "# 아스키2를 이용하여 특수문자의 값의 범위를 활용하여 제거 가능\n",
    "# 비 영어권은  유니코드 혹은 완성형코드의 수치값 범위를 활용하여 \n",
    "# 제거 한다. \n",
    "han.sub('', test_txt)"
   ]
  },
  {
   "cell_type": "markdown",
   "metadata": {},
   "source": [
    "### 그룹핑 \n",
    "\n",
    "- 그룹을 만들어주는 메타문자()"
   ]
  },
  {
   "cell_type": "code",
   "execution_count": 265,
   "metadata": {},
   "outputs": [],
   "source": [
    "p=re.compile('(123)+')"
   ]
  },
  {
   "cell_type": "code",
   "execution_count": 271,
   "metadata": {},
   "outputs": [
    {
     "data": {
      "text/plain": [
       "<re.Match object; span=(0, 12), match='123123123123'>"
      ]
     },
     "execution_count": 271,
     "metadata": {},
     "output_type": "execute_result"
    }
   ],
   "source": [
    "m=p.search('123123123123 123123 check')\n",
    "m"
   ]
  },
  {
   "cell_type": "code",
   "execution_count": 272,
   "metadata": {},
   "outputs": [
    {
     "data": {
      "text/plain": [
       "('123123123123', '123123123123', '123')"
      ]
     },
     "execution_count": 272,
     "metadata": {},
     "output_type": "execute_result"
    }
   ],
   "source": [
    "m.group(), m.group(0),m.group(1)"
   ]
  },
  {
   "cell_type": "markdown",
   "metadata": {},
   "source": [
    "- m.group(0)\n",
    "    - 매칭된 모든 문자열\n",
    "- m.group(1)\n",
    "    - 첫번째 그룹의 문자열\n",
    "- m.group(2)\n",
    "    - 두번째 그룹의 문자열\n",
    "- m.group(n)\n",
    "    - n번째 그룹의 문자열"
   ]
  },
  {
   "cell_type": "code",
   "execution_count": 274,
   "metadata": {},
   "outputs": [],
   "source": [
    "# 이표현대로 문자열을 표현한다면\n",
    "p=re.compile(r'\\w+\\s+\\d+[-]\\d+[-]\\d+')"
   ]
  },
  {
   "cell_type": "code",
   "execution_count": 275,
   "metadata": {},
   "outputs": [],
   "source": [
    "m=p.search('부산대역 010-1234-5678 abcd')"
   ]
  },
  {
   "cell_type": "code",
   "execution_count": 276,
   "metadata": {},
   "outputs": [
    {
     "data": {
      "text/plain": [
       "'부산대역 010-1234-5678'"
      ]
     },
     "execution_count": 276,
     "metadata": {},
     "output_type": "execute_result"
    }
   ],
   "source": [
    "m.group()"
   ]
  },
  {
   "cell_type": "code",
   "execution_count": 277,
   "metadata": {},
   "outputs": [
    {
     "data": {
      "text/plain": [
       "()"
      ]
     },
     "execution_count": 277,
     "metadata": {},
     "output_type": "execute_result"
    }
   ],
   "source": [
    "m.groups()\n",
    "#그룹이 없다. - > 정규식에 그룹화 표현이 없다 ."
   ]
  },
  {
   "cell_type": "code",
   "execution_count": 281,
   "metadata": {},
   "outputs": [
    {
     "data": {
      "text/plain": [
       "'1234'"
      ]
     },
     "execution_count": 281,
     "metadata": {},
     "output_type": "execute_result"
    }
   ],
   "source": [
    "#전화번호중 가운데 번호 획득 > 스플릿으로 억지로 쪼개서 한거임;;;;\n",
    "m.group(0).split()[1].split('-')[1]"
   ]
  },
  {
   "cell_type": "code",
   "execution_count": null,
   "metadata": {},
   "outputs": [],
   "source": [
    "#위의 방식은 정규식 자체가 그룹화 되지 않아서 \n",
    "#세부 정보를 취할수가 없다. 그룹화를 이용하면 상세정보를 \n",
    "#그룹별로 취할수 가 있어서 데이터를 획득 하기가 용이 하다\n"
   ]
  },
  {
   "cell_type": "code",
   "execution_count": 294,
   "metadata": {},
   "outputs": [],
   "source": [
    "p=re.compile(r'(\\w+)\\s+(\\d+[-]\\d+[-]\\d+)')\n",
    "m=p.search('부산대역 010-1234-5678 abcd 부산대역2 011-1234-5678')#부산대역 2앞에 띄어쓰기가 있어서 뒤에껀 안뽑힘"
   ]
  },
  {
   "cell_type": "code",
   "execution_count": 295,
   "metadata": {},
   "outputs": [
    {
     "data": {
      "text/plain": [
       "(('부산대역', '010-1234-5678'), '부산대역', '010-1234-5678')"
      ]
     },
     "execution_count": 295,
     "metadata": {},
     "output_type": "execute_result"
    }
   ],
   "source": [
    "m.groups(), m.group(1), m.group(2)"
   ]
  },
  {
   "cell_type": "code",
   "execution_count": 296,
   "metadata": {},
   "outputs": [
    {
     "name": "stdout",
     "output_type": "stream",
     "text": [
      "부산대역\n",
      "010-1234-5678\n"
     ]
    }
   ],
   "source": [
    "# for n in range(1,3)\n",
    "for n in range(1, len(m.groups())+1):\n",
    "    print(m.group(n))"
   ]
  },
  {
   "cell_type": "code",
   "execution_count": 297,
   "metadata": {},
   "outputs": [],
   "source": [
    "#전화번호 상세 정보가 그룹화 되어 있지 않다.\n",
    "#그룹안에 그룹화 처리를 하면 자동 분류가 된다\n",
    "p=re.compile(r'(\\w+)\\s+((\\d+)[-](\\d+)[-](\\d+))')\n",
    "m=p.search('부산대역 010-1234-5678 abcd 부산대역2 011-1234-5678')"
   ]
  },
  {
   "cell_type": "code",
   "execution_count": 298,
   "metadata": {},
   "outputs": [
    {
     "data": {
      "text/plain": [
       "('부산대역', '010-1234-5678', '010', '1234', '5678')"
      ]
     },
     "execution_count": 298,
     "metadata": {},
     "output_type": "execute_result"
    }
   ],
   "source": [
    "m.groups()"
   ]
  },
  {
   "cell_type": "code",
   "execution_count": 300,
   "metadata": {},
   "outputs": [
    {
     "name": "stdout",
     "output_type": "stream",
     "text": [
      "부산대역\n",
      "010-1234-5678\n",
      "010\n",
      "1234\n",
      "5678\n"
     ]
    }
   ],
   "source": [
    "for n in range(1, len(m.groups())+1):\n",
    "    print(m.group(n))"
   ]
  },
  {
   "cell_type": "markdown",
   "metadata": {},
   "source": [
    "#### 그룹핑된 문자열의 재참조.\n",
    "\n",
    "- 그룹핑 : 첫번째 그룹, 두번쨰 그룹, 세번째 그룹,,,,,,,,\n",
    "- \\1,\\2,\\3,,,,,,,,,,,,,,,,,\n"
   ]
  },
  {
   "cell_type": "code",
   "execution_count": 309,
   "metadata": {},
   "outputs": [],
   "source": [
    "# 자기 참조는 정규식 형태도 일치 하면서 , 값도 일치하는 경우 \n",
    "p=re.compile(r'(\\b\\w+)\\s+\\1')\n",
    "m= p.search('python numpy pandas pandas scipy tensorflow')"
   ]
  },
  {
   "cell_type": "code",
   "execution_count": 311,
   "metadata": {},
   "outputs": [
    {
     "name": "stdout",
     "output_type": "stream",
     "text": [
      "<re.Match object; span=(13, 26), match='pandas pandas'>\n"
     ]
    },
    {
     "data": {
      "text/plain": [
       "('pandas pandas', None)"
      ]
     },
     "execution_count": 311,
     "metadata": {},
     "output_type": "execute_result"
    }
   ],
   "source": [
    "m.group(), print(m)"
   ]
  },
  {
   "cell_type": "code",
   "execution_count": 312,
   "metadata": {},
   "outputs": [
    {
     "data": {
      "text/plain": [
       "('pandas',)"
      ]
     },
     "execution_count": 312,
     "metadata": {},
     "output_type": "execute_result"
    }
   ],
   "source": [
    "m.groups()"
   ]
  },
  {
   "cell_type": "markdown",
   "metadata": {},
   "source": [
    "#### 그룹핑된 문자열 네이밍 처리"
   ]
  },
  {
   "cell_type": "code",
   "execution_count": 315,
   "metadata": {},
   "outputs": [],
   "source": [
    "# (?P<이름>정규식)\n",
    "p=re.compile(r'(?P<name>\\w+)\\s+((\\d+)[-](\\d+)[-](\\d+))')\n",
    "m=p.search('부산대역 010-1234-5678 abcd 부산대역2 011-1234-5678')"
   ]
  },
  {
   "cell_type": "code",
   "execution_count": 316,
   "metadata": {},
   "outputs": [
    {
     "data": {
      "text/plain": [
       "('부산대역', '010-1234-5678', '010', '1234', '5678')"
      ]
     },
     "execution_count": 316,
     "metadata": {},
     "output_type": "execute_result"
    }
   ],
   "source": [
    "m.groups()"
   ]
  },
  {
   "cell_type": "code",
   "execution_count": 317,
   "metadata": {},
   "outputs": [
    {
     "data": {
      "text/plain": [
       "('부산대역', '부산대역')"
      ]
     },
     "execution_count": 317,
     "metadata": {},
     "output_type": "execute_result"
    }
   ],
   "source": [
    "#이름을 부여하면 순서를 몰라도 된다.\n",
    "m.group(1), m.group('name')"
   ]
  },
  {
   "cell_type": "markdown",
   "metadata": {},
   "source": [
    "#### 자기 참조를 했는데 이름이 있다.?"
   ]
  },
  {
   "cell_type": "code",
   "execution_count": 324,
   "metadata": {},
   "outputs": [],
   "source": [
    "#자기참조 그룹의 이름으로 자기창조를 수행하는 방법\n",
    "# (?P=이름)\n",
    "p=re.compile(r'(?P<BS>\\b\\w+)\\s+(?P=BS)')\n",
    "m= p.search('python numpy pandas pandas scipy tensorflow')"
   ]
  },
  {
   "cell_type": "code",
   "execution_count": 330,
   "metadata": {},
   "outputs": [
    {
     "data": {
      "text/plain": [
       "<re.Match object; span=(13, 26), match='pandas pandas'>"
      ]
     },
     "execution_count": 330,
     "metadata": {},
     "output_type": "execute_result"
    }
   ],
   "source": [
    "m"
   ]
  },
  {
   "cell_type": "code",
   "execution_count": 331,
   "metadata": {},
   "outputs": [],
   "source": [
    "date='''010-4878-1636\n",
    "011-4878-1636\n",
    "012-4878-1636\n",
    "010-4874-1636\n",
    "010-4828-1636\n",
    "010-4818-1636\n",
    "010-4858-1626\n",
    "010-4878-1136\n",
    "010-4878-1636\n",
    "010-4878-1634\n",
    "\n",
    "\n",
    "'''"
   ]
  },
  {
   "cell_type": "code",
   "execution_count": 348,
   "metadata": {},
   "outputs": [],
   "source": [
    "p=re.compile('^010-[0-9]+-[0-9]+$',re.MULTILINE)"
   ]
  },
  {
   "cell_type": "code",
   "execution_count": 349,
   "metadata": {},
   "outputs": [
    {
     "data": {
      "text/plain": [
       "['010-4878-1636',\n",
       " '010-4874-1636',\n",
       " '010-4828-1636',\n",
       " '010-4818-1636',\n",
       " '010-4858-1626',\n",
       " '010-4878-1136',\n",
       " '010-4878-1636',\n",
       " '010-4878-1634']"
      ]
     },
     "execution_count": 349,
     "metadata": {},
     "output_type": "execute_result"
    }
   ],
   "source": [
    "p.findall(date)"
   ]
  },
  {
   "cell_type": "code",
   "execution_count": null,
   "metadata": {},
   "outputs": [],
   "source": []
  },
  {
   "cell_type": "code",
   "execution_count": null,
   "metadata": {},
   "outputs": [],
   "source": []
  },
  {
   "cell_type": "code",
   "execution_count": null,
   "metadata": {},
   "outputs": [],
   "source": []
  },
  {
   "cell_type": "code",
   "execution_count": null,
   "metadata": {},
   "outputs": [],
   "source": []
  },
  {
   "cell_type": "code",
   "execution_count": null,
   "metadata": {},
   "outputs": [],
   "source": []
  },
  {
   "cell_type": "code",
   "execution_count": null,
   "metadata": {},
   "outputs": [],
   "source": []
  },
  {
   "cell_type": "code",
   "execution_count": null,
   "metadata": {},
   "outputs": [],
   "source": []
  }
 ],
 "metadata": {
  "kernelspec": {
   "display_name": "Python 3",
   "language": "python",
   "name": "python3"
  },
  "language_info": {
   "codemirror_mode": {
    "name": "ipython",
    "version": 3
   },
   "file_extension": ".py",
   "mimetype": "text/x-python",
   "name": "python",
   "nbconvert_exporter": "python",
   "pygments_lexer": "ipython3",
   "version": "3.7.4"
  }
 },
 "nbformat": 4,
 "nbformat_minor": 2
}
